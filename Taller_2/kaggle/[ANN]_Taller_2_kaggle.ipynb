{
  "nbformat": 4,
  "nbformat_minor": 0,
  "metadata": {
    "colab": {
      "name": "[ANN] Taller_2-kaggle.ipynb",
      "provenance": [],
      "collapsed_sections": [
        "5KpQX7WnEGfb"
      ],
      "toc_visible": true
    },
    "kernelspec": {
      "name": "python3",
      "display_name": "Python 3"
    },
    "accelerator": "GPU"
  },
  "cells": [
    {
      "cell_type": "markdown",
      "metadata": {
        "id": "19bQIMOp_4gl",
        "colab_type": "text"
      },
      "source": [
        "\n",
        "<img src=\"https://www.exalumnos.usm.cl/wp-content/uploads/2015/06/ISOTIPO-Color.jpg\" style=\"float:right\" height=\"100px\">\n",
        "<img src=\"https://www.inf.utfsm.cl/images/sitio/di.png\" style=\"float:left;\"height=\"100px\">\n",
        "<center>\n",
        "    <h1> INF-395/477 Redes Neuronales Artificiales - I-2020</h1>\n",
        "    <h1> Taller 2 - Redes Neuronales y *Deep Learning*</h1>\n",
        "    <h3> Parte 2: Kaggle </h3>\n",
        "</center>"
      ]
    },
    {
      "cell_type": "markdown",
      "metadata": {
        "id": "dOoOJLmFKAvi",
        "colab_type": "text"
      },
      "source": [
        "# Sección nueva"
      ]
    },
    {
      "cell_type": "markdown",
      "metadata": {
        "id": "qfWLEJhZ__16",
        "colab_type": "text"
      },
      "source": [
        "## Integrantes: \n",
        "* Gabriel Arjona  - 201473529-4\n",
        "* Roberto Fuentes - 201173037-2 \n",
        "* German Treimun  - 20l173085-2\n",
        "\n",
        "## Grupo:\n",
        "* Los Gatos con Corbatin"
      ]
    },
    {
      "cell_type": "markdown",
      "metadata": {
        "id": "MAp56hV7tSQj",
        "colab_type": "text"
      },
      "source": [
        "# Librerias "
      ]
    },
    {
      "cell_type": "code",
      "metadata": {
        "id": "VLXQoe-9je7a",
        "colab_type": "code",
        "colab": {
          "base_uri": "https://localhost:8080/",
          "height": 50
        },
        "outputId": "ae14e337-70ed-4a92-fd00-f645b4c9bd08"
      },
      "source": [
        "import nltk\n",
        "nltk.download('stopwords')\n",
        "from nltk.corpus import stopwords\n",
        "\n",
        "import re\n",
        "import numpy as np\n",
        "import pandas as pd\n",
        "import os\n",
        "\n",
        "from scipy import spatial\n",
        "\n",
        "from sklearn.model_selection import train_test_split\n",
        "from sklearn.feature_extraction.text import CountVectorizer\n",
        "from sklearn.preprocessing import LabelEncoder\n",
        "from sklearn.preprocessing import OneHotEncoder\n",
        "from keras.preprocessing.text import Tokenizer\n",
        "from keras.preprocessing.sequence import pad_sequences\n",
        "\n",
        "from keras.models import Sequential\n",
        "from keras import layers\n",
        "from keras.layers import Dropout, Input\n",
        "from keras import backend as K\n",
        "from keras.layers import Dense, Activation, Flatten, Dropout, BatchNormalization"
      ],
      "execution_count": 91,
      "outputs": [
        {
          "output_type": "stream",
          "text": [
            "[nltk_data] Downloading package stopwords to /root/nltk_data...\n",
            "[nltk_data]   Package stopwords is already up-to-date!\n"
          ],
          "name": "stdout"
        }
      ]
    },
    {
      "cell_type": "markdown",
      "metadata": {
        "id": "8oApORl7tdW1",
        "colab_type": "text"
      },
      "source": [
        "# Primera forma (usando tokenizer)"
      ]
    },
    {
      "cell_type": "markdown",
      "metadata": {
        "id": "QnHKBwm-tnie",
        "colab_type": "text"
      },
      "source": [
        "Se clona la data y mediante pandas se cargan los tweet y sus textos."
      ]
    },
    {
      "cell_type": "code",
      "metadata": {
        "id": "c3V2dkNGj6c-",
        "colab_type": "code",
        "colab": {
          "base_uri": "https://localhost:8080/",
          "height": 150
        },
        "outputId": "adb6b20e-958a-4d8f-df26-e4b30c703b76"
      },
      "source": [
        "!git clone https://github.com/rffuente/INF-395-477---Tareas.git"
      ],
      "execution_count": 7,
      "outputs": [
        {
          "output_type": "stream",
          "text": [
            "Cloning into 'INF-395-477---Tareas'...\n",
            "remote: Enumerating objects: 5300, done.\u001b[K\n",
            "remote: Counting objects: 100% (5300/5300), done.\u001b[K\n",
            "remote: Compressing objects: 100% (4070/4070), done.\u001b[K\n",
            "remote: Total 15476 (delta 1231), reused 5289 (delta 1221), pack-reused 10176\u001b[K\n",
            "Receiving objects: 100% (15476/15476), 94.87 MiB | 20.84 MiB/s, done.\n",
            "Resolving deltas: 100% (1350/1350), done.\n",
            "Checking out files: 100% (15502/15502), done.\n"
          ],
          "name": "stdout"
        }
      ]
    },
    {
      "cell_type": "code",
      "metadata": {
        "id": "pLvwCYw4j7Jc",
        "colab_type": "code",
        "colab": {}
      },
      "source": [
        "path = \"INF-395-477---Tareas/Taller_2/kaggle/\"\n",
        "#os.mkdir(\"new_train\")"
      ],
      "execution_count": 8,
      "outputs": []
    },
    {
      "cell_type": "code",
      "metadata": {
        "id": "ugxhIWlFkNtj",
        "colab_type": "code",
        "colab": {}
      },
      "source": [
        "df = pd.read_fwf(path+'train_source_tweets.txt',sep = \"\\t\",header=None,\n",
        "    names=[\"idTweet\", \"text\"],  # set our own names for the columns\n",
        ")"
      ],
      "execution_count": null,
      "outputs": []
    },
    {
      "cell_type": "markdown",
      "metadata": {
        "id": "CfyOX1w5tthK",
        "colab_type": "text"
      },
      "source": [
        "Se procede a \"limpiar\" el texto, eliminando diversos simbolos y dejandolo en miúsculas, entre otros."
      ]
    },
    {
      "cell_type": "code",
      "metadata": {
        "id": "sLSyJVOgjH2m",
        "colab_type": "code",
        "colab": {}
      },
      "source": [
        "REPLACE_BY_SPACE_RE = re.compile('[/(){}\\[\\]\\|@,;]')\n",
        "BAD_SYMBOLS_RE = re.compile('[^0-9a-z #+_]')\n",
        "STOPWORDS = set(stopwords.words('english'))\n",
        "\n",
        "def text_prepare(text):\n",
        "    \"\"\"\n",
        "    text: a string\n",
        "        return: modified initial string\n",
        "    \"\"\"\n",
        "    lower = text.lower() # lowercase text\n",
        "    space_replace = REPLACE_BY_SPACE_RE.sub(\" \",lower) #replace REPLACE_BY_SPACE_RE symbols by space in text\n",
        "    nosymb = BAD_SYMBOLS_RE.sub(\"\",space_replace) # delete symbols which are in BAD_SYMBOLS_RE from text\n",
        "    text = re.sub(r\"\\s*\\b(?:{})\\b\".format(\"|\".join(STOPWORDS)), \"\", nosymb) # delete STOPWORDS\n",
        "    return re.sub(r\" {2,}\", \" \", text.strip())"
      ],
      "execution_count": null,
      "outputs": []
    },
    {
      "cell_type": "code",
      "metadata": {
        "id": "l6yWKeVMjitm",
        "colab_type": "code",
        "colab": {
          "base_uri": "https://localhost:8080/",
          "height": 419
        },
        "outputId": "752d4da7-694f-47d9-fc75-4c0fd2554d2d"
      },
      "source": [
        "df['text'] = df['text'].apply(lambda x : text_prepare(x))\n",
        "df"
      ],
      "execution_count": null,
      "outputs": [
        {
          "output_type": "execute_result",
          "data": {
            "text/html": [
              "<div>\n",
              "<style scoped>\n",
              "    .dataframe tbody tr th:only-of-type {\n",
              "        vertical-align: middle;\n",
              "    }\n",
              "\n",
              "    .dataframe tbody tr th {\n",
              "        vertical-align: top;\n",
              "    }\n",
              "\n",
              "    .dataframe thead th {\n",
              "        text-align: right;\n",
              "    }\n",
              "</style>\n",
              "<table border=\"1\" class=\"dataframe\">\n",
              "  <thead>\n",
              "    <tr style=\"text-align: right;\">\n",
              "      <th></th>\n",
              "      <th>idTweet</th>\n",
              "      <th>text</th>\n",
              "    </tr>\n",
              "  </thead>\n",
              "  <tbody>\n",
              "    <tr>\n",
              "      <th>0</th>\n",
              "      <td>692735698349199360</td>\n",
              "      <td>north korea planning kind rocket launch us off...</td>\n",
              "    </tr>\n",
              "    <tr>\n",
              "      <th>1</th>\n",
              "      <td>525008463819464704</td>\n",
              "      <td>meet kevin vickers hero shot parliament hill g...</td>\n",
              "    </tr>\n",
              "    <tr>\n",
              "      <th>2</th>\n",
              "      <td>505611045897924608</td>\n",
              "      <td>15 year old swatted gamer convicted domestic t...</td>\n",
              "    </tr>\n",
              "    <tr>\n",
              "      <th>3</th>\n",
              "      <td>693466724822323200</td>\n",
              "      <td>audio recordings reveal cpr started 11 minutes...</td>\n",
              "    </tr>\n",
              "    <tr>\n",
              "      <th>4</th>\n",
              "      <td>510922415468449792</td>\n",
              "      <td>awful mt scclemonsuk aid worker david haines b...</td>\n",
              "    </tr>\n",
              "    <tr>\n",
              "      <th>...</th>\n",
              "      <td>...</td>\n",
              "      <td>...</td>\n",
              "    </tr>\n",
              "    <tr>\n",
              "      <th>1921</th>\n",
              "      <td>515598200796090369</td>\n",
              "      <td>#workplace hero shoots #altonnolen #stabbings ...</td>\n",
              "    </tr>\n",
              "    <tr>\n",
              "      <th>1922</th>\n",
              "      <td>535257207991205888</td>\n",
              "      <td>russian boy shocked electricity claims superpo...</td>\n",
              "    </tr>\n",
              "    <tr>\n",
              "      <th>1923</th>\n",
              "      <td>524944399890124801</td>\n",
              "      <td>recap gunman shot dead inside parliament build...</td>\n",
              "    </tr>\n",
              "    <tr>\n",
              "      <th>1924</th>\n",
              "      <td>519965814175567872</td>\n",
              "      <td>vandal painted brilliantly simple penis 2 mill...</td>\n",
              "    </tr>\n",
              "    <tr>\n",
              "      <th>1925</th>\n",
              "      <td>523939598691741696</td>\n",
              "      <td>cool dog mt cbsnews goliath encounter puppysiz...</td>\n",
              "    </tr>\n",
              "  </tbody>\n",
              "</table>\n",
              "<p>1926 rows × 2 columns</p>\n",
              "</div>"
            ],
            "text/plain": [
              "                 idTweet                                               text\n",
              "0     692735698349199360  north korea planning kind rocket launch us off...\n",
              "1     525008463819464704  meet kevin vickers hero shot parliament hill g...\n",
              "2     505611045897924608  15 year old swatted gamer convicted domestic t...\n",
              "3     693466724822323200  audio recordings reveal cpr started 11 minutes...\n",
              "4     510922415468449792  awful mt scclemonsuk aid worker david haines b...\n",
              "...                  ...                                                ...\n",
              "1921  515598200796090369  #workplace hero shoots #altonnolen #stabbings ...\n",
              "1922  535257207991205888  russian boy shocked electricity claims superpo...\n",
              "1923  524944399890124801  recap gunman shot dead inside parliament build...\n",
              "1924  519965814175567872  vandal painted brilliantly simple penis 2 mill...\n",
              "1925  523939598691741696  cool dog mt cbsnews goliath encounter puppysiz...\n",
              "\n",
              "[1926 rows x 2 columns]"
            ]
          },
          "metadata": {
            "tags": []
          },
          "execution_count": 6
        }
      ]
    },
    {
      "cell_type": "markdown",
      "metadata": {
        "id": "dLjiajIlt7xu",
        "colab_type": "text"
      },
      "source": [
        "Se cargan los labels de los tweets"
      ]
    },
    {
      "cell_type": "code",
      "metadata": {
        "id": "bR7hHl7lop-X",
        "colab_type": "code",
        "colab": {}
      },
      "source": [
        "labels = pd.read_csv(\n",
        "    path+'train_labels.csv',\n",
        "    sep=\",\",  # tab-separated\n",
        "    skiprows=[0],\n",
        "    header=None,  # no heading row\n",
        "    names=[\"label\",\"idTweet\"],  # set our own names for the columns\n",
        ")\n",
        "labels = labels.set_index(\"idTweet\")\n",
        "labels = labels[\"label\"]\n",
        "labels\n",
        "\n",
        "df = df.set_index(\"idTweet\")\n",
        "df = df[\"text\"]"
      ],
      "execution_count": null,
      "outputs": []
    },
    {
      "cell_type": "code",
      "metadata": {
        "id": "F1EnP8L7wlrp",
        "colab_type": "code",
        "colab": {
          "base_uri": "https://localhost:8080/",
          "height": 238
        },
        "outputId": "7dd68649-9e6f-4277-e439-199d8460bb00"
      },
      "source": [
        "df"
      ],
      "execution_count": null,
      "outputs": [
        {
          "output_type": "execute_result",
          "data": {
            "text/plain": [
              "idTweet\n",
              "692735698349199360    north korea planning kind rocket launch us off...\n",
              "525008463819464704    meet kevin vickers hero shot parliament hill g...\n",
              "505611045897924608    15 year old swatted gamer convicted domestic t...\n",
              "693466724822323200    audio recordings reveal cpr started 11 minutes...\n",
              "510922415468449792    awful mt scclemonsuk aid worker david haines b...\n",
              "                                            ...                        \n",
              "515598200796090369    #workplace hero shoots #altonnolen #stabbings ...\n",
              "535257207991205888    russian boy shocked electricity claims superpo...\n",
              "524944399890124801    recap gunman shot dead inside parliament build...\n",
              "519965814175567872    vandal painted brilliantly simple penis 2 mill...\n",
              "523939598691741696    cool dog mt cbsnews goliath encounter puppysiz...\n",
              "Name: text, Length: 1926, dtype: object"
            ]
          },
          "metadata": {
            "tags": []
          },
          "execution_count": 8
        }
      ]
    },
    {
      "cell_type": "markdown",
      "metadata": {
        "id": "BMZSJS0guWpY",
        "colab_type": "text"
      },
      "source": [
        "Se dividen las sentencias (texto de tweets) en conjuntos de training y testing."
      ]
    },
    {
      "cell_type": "code",
      "metadata": {
        "id": "SVN-XvrflLel",
        "colab_type": "code",
        "colab": {}
      },
      "source": [
        "sentences_train, sentences_test, y_train, y_test = train_test_split( df, labels, test_size=0.35, random_state=1000)"
      ],
      "execution_count": null,
      "outputs": []
    },
    {
      "cell_type": "code",
      "metadata": {
        "id": "H1S0az_I8wH9",
        "colab_type": "code",
        "colab": {
          "base_uri": "https://localhost:8080/",
          "height": 34
        },
        "outputId": "4fd86152-a38a-4158-ee43-e34c3cc77611"
      },
      "source": [
        "single_labels = list(set(labels))\n",
        "#Llevamos labels a vectores númericos\n",
        "encoder = LabelEncoder()\n",
        "tweets_labels_2 = encoder.fit_transform(single_labels)\n",
        "tweets_labels_2"
      ],
      "execution_count": null,
      "outputs": [
        {
          "output_type": "execute_result",
          "data": {
            "text/plain": [
              "array([3, 2, 1, 0])"
            ]
          },
          "metadata": {
            "tags": []
          },
          "execution_count": 10
        }
      ]
    },
    {
      "cell_type": "code",
      "metadata": {
        "id": "pN2HKBnANXxv",
        "colab_type": "code",
        "colab": {
          "base_uri": "https://localhost:8080/",
          "height": 34
        },
        "outputId": "b17976ec-969e-441b-8329-5e20c9570cba"
      },
      "source": [
        "single_labels"
      ],
      "execution_count": null,
      "outputs": [
        {
          "output_type": "execute_result",
          "data": {
            "text/plain": [
              "['unverified', 'true', 'non-rumor', 'false']"
            ]
          },
          "metadata": {
            "tags": []
          },
          "execution_count": 11
        }
      ]
    },
    {
      "cell_type": "code",
      "metadata": {
        "id": "27wdY3_cIahx",
        "colab_type": "code",
        "colab": {
          "base_uri": "https://localhost:8080/",
          "height": 85
        },
        "outputId": "e0f3b7c9-79c7-4ff0-e208-a67f97886c8e"
      },
      "source": [
        "encoder = OneHotEncoder(sparse=False)\n",
        "tweets_labels_2 = tweets_labels_2.reshape((len(tweets_labels_2), 1))\n",
        "tweets_labels_2 = encoder.fit_transform(tweets_labels_2)\n",
        "tweets_labels_2"
      ],
      "execution_count": null,
      "outputs": [
        {
          "output_type": "execute_result",
          "data": {
            "text/plain": [
              "array([[0., 0., 0., 1.],\n",
              "       [0., 0., 1., 0.],\n",
              "       [0., 1., 0., 0.],\n",
              "       [1., 0., 0., 0.]])"
            ]
          },
          "metadata": {
            "tags": []
          },
          "execution_count": 12
        }
      ]
    },
    {
      "cell_type": "code",
      "metadata": {
        "id": "J1KH6xdQrQfx",
        "colab_type": "code",
        "colab": {}
      },
      "source": [
        "encoder = LabelEncoder()\n",
        "tweets_labels = encoder.fit_transform(y_train)\n",
        "encoder = OneHotEncoder(sparse=False)\n",
        "tweets_labels = tweets_labels.reshape((len(y_train), 1))\n",
        "y_train = encoder.fit_transform(tweets_labels)\n",
        "\n",
        "encoder = LabelEncoder()\n",
        "tweets_labels = encoder.fit_transform(y_test)\n",
        "encoder = OneHotEncoder(sparse=False)\n",
        "tweets_labels = tweets_labels.reshape((len(y_test), 1))\n",
        "y_test = encoder.fit_transform(tweets_labels)"
      ],
      "execution_count": null,
      "outputs": []
    },
    {
      "cell_type": "code",
      "metadata": {
        "id": "pnl14OGcrS_I",
        "colab_type": "code",
        "colab": {
          "base_uri": "https://localhost:8080/",
          "height": 136
        },
        "outputId": "7c06c6ed-5bab-449a-d4bd-684e56253a0f"
      },
      "source": [
        "y_train"
      ],
      "execution_count": null,
      "outputs": [
        {
          "output_type": "execute_result",
          "data": {
            "text/plain": [
              "array([[0., 0., 1., 0.],\n",
              "       [0., 1., 0., 0.],\n",
              "       [0., 1., 0., 0.],\n",
              "       ...,\n",
              "       [1., 0., 0., 0.],\n",
              "       [1., 0., 0., 0.],\n",
              "       [0., 0., 1., 0.]])"
            ]
          },
          "metadata": {
            "tags": []
          },
          "execution_count": 14
        }
      ]
    },
    {
      "cell_type": "markdown",
      "metadata": {
        "id": "z0ufSFLFwV4d",
        "colab_type": "text"
      },
      "source": [
        "Cada sentencia de texto (tweets) es transformada en un vector de tokenz."
      ]
    },
    {
      "cell_type": "code",
      "metadata": {
        "id": "01IUltNXw8CX",
        "colab_type": "code",
        "colab": {}
      },
      "source": [
        "tokenizer = Tokenizer(num_words=5000)\n",
        "tokenizer.fit_on_texts(sentences_train)\n",
        "\n",
        "X_train = tokenizer.texts_to_sequences(sentences_train)\n",
        "X_test = tokenizer.texts_to_sequences(sentences_test)\n",
        "\n",
        "vocab_size = len(tokenizer.word_index) + 1  # Adding 1 because of reserved 0 index\n",
        "\n",
        "#print(sentences_train[2])\n",
        "#print(X_train[2])"
      ],
      "execution_count": null,
      "outputs": []
    },
    {
      "cell_type": "code",
      "metadata": {
        "id": "OskSdknrxVIW",
        "colab_type": "code",
        "colab": {}
      },
      "source": [
        "maxlen = 100\n",
        "\n",
        "X_train = pad_sequences(X_train, padding='post', maxlen=maxlen)\n",
        "X_test = pad_sequences(X_test, padding='post', maxlen=maxlen)"
      ],
      "execution_count": null,
      "outputs": []
    },
    {
      "cell_type": "code",
      "metadata": {
        "id": "5K5RtP9BxVSu",
        "colab_type": "code",
        "colab": {
          "base_uri": "https://localhost:8080/",
          "height": 34
        },
        "outputId": "7a3dc028-69e9-4fdc-96ae-3aadf420958a"
      },
      "source": [
        "X_train.shape"
      ],
      "execution_count": null,
      "outputs": [
        {
          "output_type": "execute_result",
          "data": {
            "text/plain": [
              "(1251, 100)"
            ]
          },
          "metadata": {
            "tags": []
          },
          "execution_count": 17
        }
      ]
    },
    {
      "cell_type": "code",
      "metadata": {
        "id": "v2IlgvMuxVcl",
        "colab_type": "code",
        "colab": {
          "base_uri": "https://localhost:8080/",
          "height": 51
        },
        "outputId": "d46c2bc2-a820-4c90-bee4-34fe6c51dc5e"
      },
      "source": [
        "vectorizer = CountVectorizer()\n",
        "vectorizer.fit(sentences_train)\n",
        "\n",
        "X_train = vectorizer.transform(sentences_train)\n",
        "X_test  = vectorizer.transform(sentences_test)\n",
        "#y_train = vectorizer.transform(y_train)\n",
        "#y_test  = vectorizer.transform(y_test)\n",
        "X_train"
      ],
      "execution_count": null,
      "outputs": [
        {
          "output_type": "execute_result",
          "data": {
            "text/plain": [
              "<1251x4505 sparse matrix of type '<class 'numpy.int64'>'\n",
              "\twith 12944 stored elements in Compressed Sparse Row format>"
            ]
          },
          "metadata": {
            "tags": []
          },
          "execution_count": 18
        }
      ]
    },
    {
      "cell_type": "code",
      "metadata": {
        "id": "fhUz3w-7KzAi",
        "colab_type": "code",
        "colab": {
          "base_uri": "https://localhost:8080/",
          "height": 51
        },
        "outputId": "1dbe75f5-5a01-4943-89de-df6c2c107b38"
      },
      "source": [
        "X_test"
      ],
      "execution_count": null,
      "outputs": [
        {
          "output_type": "execute_result",
          "data": {
            "text/plain": [
              "<675x4505 sparse matrix of type '<class 'numpy.int64'>'\n",
              "\twith 5542 stored elements in Compressed Sparse Row format>"
            ]
          },
          "metadata": {
            "tags": []
          },
          "execution_count": 19
        }
      ]
    },
    {
      "cell_type": "markdown",
      "metadata": {
        "id": "kC6OEAfjv-Oh",
        "colab_type": "text"
      },
      "source": [
        "Se fine la función F1, para medir accuracy "
      ]
    },
    {
      "cell_type": "code",
      "metadata": {
        "id": "uSVsh_LjtpZM",
        "colab_type": "code",
        "colab": {}
      },
      "source": [
        "def f1(y_true, y_pred):\n",
        "    def recall(y_true, y_pred):\n",
        "        \"\"\"Recall metric.\n",
        "\n",
        "        Only computes a batch-wise average of recall.\n",
        "\n",
        "        Computes the recall, a metric for multi-label classification of\n",
        "        how many relevant items are selected.\n",
        "        \"\"\"\n",
        "        true_positives = K.sum(K.round(K.clip(y_true * y_pred, 0, 1)))\n",
        "        possible_positives = K.sum(K.round(K.clip(y_true, 0, 1)))\n",
        "        recall = true_positives / (possible_positives + K.epsilon())\n",
        "        return recall\n",
        "\n",
        "    def precision(y_true, y_pred):\n",
        "        \"\"\"Precision metric.\n",
        "\n",
        "        Only computes a batch-wise average of precision.\n",
        "\n",
        "        Computes the precision, a metric for multi-label classification of\n",
        "        how many selected items are relevant.\n",
        "        \"\"\"\n",
        "        true_positives = K.sum(K.round(K.clip(y_true * y_pred, 0, 1)))\n",
        "        predicted_positives = K.sum(K.round(K.clip(y_pred, 0, 1)))\n",
        "        precision = true_positives / (predicted_positives + K.epsilon())\n",
        "        return precision\n",
        "    precision = precision(y_true, y_pred)\n",
        "    recall = recall(y_true, y_pred)\n",
        "    return 2*((precision*recall)/(precision+recall+K.epsilon()))"
      ],
      "execution_count": null,
      "outputs": []
    },
    {
      "cell_type": "markdown",
      "metadata": {
        "id": "k9eZvd9g5z48",
        "colab_type": "text"
      },
      "source": [
        "Se define el modelo para entrenar la red, en este caso es un modelo secuencial denso"
      ]
    },
    {
      "cell_type": "code",
      "metadata": {
        "id": "AaPbCD_Vrc7W",
        "colab_type": "code",
        "colab": {}
      },
      "source": [
        "input_dim = X_train.shape[1]  # Number of features\n",
        "\n",
        "model = Sequential()\n",
        "model.add(layers.Dense(1024, input_shape=(input_dim,), activation='relu'))\n",
        "model.add(Dropout(0.25))\n",
        "model.add(layers.Dense(1024, activation='relu'))\n",
        "model.add(Dropout(0.5))\n",
        "model.add(layers.Dense(512, activation='relu'))\n",
        "model.add(Dropout(0.25))\n",
        "model.add(layers.Dense(4, activation='softmax'))"
      ],
      "execution_count": null,
      "outputs": []
    },
    {
      "cell_type": "code",
      "metadata": {
        "id": "kfMsynvss0Bk",
        "colab_type": "code",
        "colab": {
          "base_uri": "https://localhost:8080/",
          "height": 391
        },
        "outputId": "8cb90968-2732-43d0-c191-de589a614fa2"
      },
      "source": [
        "model.compile(loss='categorical_crossentropy', \n",
        "               optimizer='adam', \n",
        "               metrics=[f1])\n",
        "model.summary()"
      ],
      "execution_count": null,
      "outputs": [
        {
          "output_type": "stream",
          "text": [
            "Model: \"sequential_3\"\n",
            "_________________________________________________________________\n",
            "Layer (type)                 Output Shape              Param #   \n",
            "=================================================================\n",
            "dense_9 (Dense)              (None, 1024)              4614144   \n",
            "_________________________________________________________________\n",
            "dropout_7 (Dropout)          (None, 1024)              0         \n",
            "_________________________________________________________________\n",
            "dense_10 (Dense)             (None, 1024)              1049600   \n",
            "_________________________________________________________________\n",
            "dropout_8 (Dropout)          (None, 1024)              0         \n",
            "_________________________________________________________________\n",
            "dense_11 (Dense)             (None, 512)               524800    \n",
            "_________________________________________________________________\n",
            "dropout_9 (Dropout)          (None, 512)               0         \n",
            "_________________________________________________________________\n",
            "dense_12 (Dense)             (None, 4)                 2052      \n",
            "=================================================================\n",
            "Total params: 6,190,596\n",
            "Trainable params: 6,190,596\n",
            "Non-trainable params: 0\n",
            "_________________________________________________________________\n"
          ],
          "name": "stdout"
        }
      ]
    },
    {
      "cell_type": "code",
      "metadata": {
        "id": "b3Vn9ZfV0P7y",
        "colab_type": "code",
        "colab": {
          "base_uri": "https://localhost:8080/",
          "height": 85
        },
        "outputId": "c12db9fd-f440-4455-9ee7-11b45441c1c1"
      },
      "source": [
        "print(X_train.shape)\n",
        "print(y_train.shape)\n",
        "print(X_test.shape)\n",
        "print(y_test.shape)"
      ],
      "execution_count": null,
      "outputs": [
        {
          "output_type": "stream",
          "text": [
            "(1251, 4505)\n",
            "(1251, 4)\n",
            "(675, 4505)\n",
            "(675, 4)\n"
          ],
          "name": "stdout"
        }
      ]
    },
    {
      "cell_type": "markdown",
      "metadata": {
        "id": "5KpQX7WnEGfb",
        "colab_type": "text"
      },
      "source": [
        "## Entrenamiento"
      ]
    },
    {
      "cell_type": "code",
      "metadata": {
        "id": "3CPGWdabtyTM",
        "colab_type": "code",
        "colab": {
          "base_uri": "https://localhost:8080/",
          "height": 1000
        },
        "outputId": "afcb4449-f3b0-473b-ed09-3112cd338122"
      },
      "source": [
        "history = model.fit(X_train, y_train,\n",
        "                     epochs=30,\n",
        "                     verbose=1,\n",
        "                     validation_data=(X_test, y_test),\n",
        "                     batch_size=32)"
      ],
      "execution_count": null,
      "outputs": [
        {
          "output_type": "stream",
          "text": [
            "Train on 1251 samples, validate on 675 samples\n",
            "Epoch 1/30\n",
            "1251/1251 [==============================] - 1s 448us/step - loss: 1.2495 - f1: 0.1278 - val_loss: 0.8668 - val_f1: 0.5724\n",
            "Epoch 2/30\n",
            "1251/1251 [==============================] - 0s 287us/step - loss: 0.2734 - f1: 0.9092 - val_loss: 0.6275 - val_f1: 0.8084\n",
            "Epoch 3/30\n",
            "1251/1251 [==============================] - 0s 283us/step - loss: 0.0115 - f1: 0.9976 - val_loss: 0.6507 - val_f1: 0.8229\n",
            "Epoch 4/30\n",
            "1251/1251 [==============================] - 0s 274us/step - loss: 0.0020 - f1: 1.0000 - val_loss: 0.6948 - val_f1: 0.8151\n",
            "Epoch 5/30\n",
            "1251/1251 [==============================] - 0s 287us/step - loss: 2.8575e-04 - f1: 1.0000 - val_loss: 0.7047 - val_f1: 0.8132\n",
            "Epoch 6/30\n",
            "1251/1251 [==============================] - 0s 282us/step - loss: 1.7357e-04 - f1: 1.0000 - val_loss: 0.7107 - val_f1: 0.8175\n",
            "Epoch 7/30\n",
            "1251/1251 [==============================] - 0s 275us/step - loss: 1.1965e-04 - f1: 1.0000 - val_loss: 0.7223 - val_f1: 0.8147\n",
            "Epoch 8/30\n",
            "1251/1251 [==============================] - 0s 287us/step - loss: 1.3108e-04 - f1: 1.0000 - val_loss: 0.7281 - val_f1: 0.8142\n",
            "Epoch 9/30\n",
            "1251/1251 [==============================] - 0s 277us/step - loss: 1.2216e-04 - f1: 1.0000 - val_loss: 0.7351 - val_f1: 0.8129\n",
            "Epoch 10/30\n",
            "1251/1251 [==============================] - 0s 281us/step - loss: 8.0038e-05 - f1: 1.0000 - val_loss: 0.7420 - val_f1: 0.8155\n",
            "Epoch 11/30\n",
            "1251/1251 [==============================] - 0s 283us/step - loss: 8.9655e-05 - f1: 1.0000 - val_loss: 0.7443 - val_f1: 0.8178\n",
            "Epoch 12/30\n",
            "1251/1251 [==============================] - 0s 277us/step - loss: 6.5112e-05 - f1: 1.0000 - val_loss: 0.7513 - val_f1: 0.8177\n",
            "Epoch 13/30\n",
            "1251/1251 [==============================] - 0s 283us/step - loss: 5.3435e-05 - f1: 1.0000 - val_loss: 0.7554 - val_f1: 0.8188\n",
            "Epoch 14/30\n",
            "1251/1251 [==============================] - 0s 291us/step - loss: 4.6862e-05 - f1: 1.0000 - val_loss: 0.7583 - val_f1: 0.8164\n",
            "Epoch 15/30\n",
            "1251/1251 [==============================] - 0s 280us/step - loss: 4.4800e-05 - f1: 1.0000 - val_loss: 0.7617 - val_f1: 0.8184\n",
            "Epoch 16/30\n",
            "1251/1251 [==============================] - 0s 293us/step - loss: 3.0861e-05 - f1: 1.0000 - val_loss: 0.7663 - val_f1: 0.8186\n",
            "Epoch 17/30\n",
            "1251/1251 [==============================] - 0s 281us/step - loss: 2.5521e-05 - f1: 1.0000 - val_loss: 0.7703 - val_f1: 0.8166\n",
            "Epoch 18/30\n",
            "1251/1251 [==============================] - 0s 278us/step - loss: 3.3249e-05 - f1: 1.0000 - val_loss: 0.7764 - val_f1: 0.8172\n",
            "Epoch 19/30\n",
            "1251/1251 [==============================] - 0s 286us/step - loss: 4.3296e-05 - f1: 1.0000 - val_loss: 0.7839 - val_f1: 0.8192\n",
            "Epoch 20/30\n",
            "1251/1251 [==============================] - 0s 287us/step - loss: 3.1597e-05 - f1: 1.0000 - val_loss: 0.7918 - val_f1: 0.8155\n",
            "Epoch 21/30\n",
            "1251/1251 [==============================] - 0s 290us/step - loss: 2.4795e-05 - f1: 1.0000 - val_loss: 0.7938 - val_f1: 0.8153\n",
            "Epoch 22/30\n",
            "1251/1251 [==============================] - 0s 294us/step - loss: 2.3241e-05 - f1: 1.0000 - val_loss: 0.7974 - val_f1: 0.8149\n",
            "Epoch 23/30\n",
            "1251/1251 [==============================] - 0s 282us/step - loss: 1.5421e-05 - f1: 1.0000 - val_loss: 0.7997 - val_f1: 0.8158\n",
            "Epoch 24/30\n",
            "1251/1251 [==============================] - 0s 280us/step - loss: 1.6920e-05 - f1: 1.0000 - val_loss: 0.8014 - val_f1: 0.8164\n",
            "Epoch 25/30\n",
            "1251/1251 [==============================] - 0s 288us/step - loss: 1.5857e-05 - f1: 1.0000 - val_loss: 0.8062 - val_f1: 0.8193\n",
            "Epoch 26/30\n",
            "1251/1251 [==============================] - 0s 280us/step - loss: 1.5327e-05 - f1: 1.0000 - val_loss: 0.8088 - val_f1: 0.8178\n",
            "Epoch 27/30\n",
            "1251/1251 [==============================] - 0s 281us/step - loss: 1.4892e-05 - f1: 1.0000 - val_loss: 0.8108 - val_f1: 0.8170\n",
            "Epoch 28/30\n",
            "1251/1251 [==============================] - 0s 290us/step - loss: 1.3477e-05 - f1: 1.0000 - val_loss: 0.8133 - val_f1: 0.8170\n",
            "Epoch 29/30\n",
            "1251/1251 [==============================] - 0s 281us/step - loss: 1.4567e-05 - f1: 1.0000 - val_loss: 0.8188 - val_f1: 0.8162\n",
            "Epoch 30/30\n",
            "1251/1251 [==============================] - 0s 286us/step - loss: 1.1503e-05 - f1: 1.0000 - val_loss: 0.8219 - val_f1: 0.8156\n"
          ],
          "name": "stdout"
        }
      ]
    },
    {
      "cell_type": "markdown",
      "metadata": {
        "id": "kxKuzLgNEK_U",
        "colab_type": "text"
      },
      "source": [
        "## Resultados"
      ]
    },
    {
      "cell_type": "code",
      "metadata": {
        "id": "qMiba0CI-C7K",
        "colab_type": "code",
        "colab": {}
      },
      "source": [
        "import matplotlib.pyplot as plt\n",
        "plt.style.use('ggplot')\n",
        "\n",
        "def plot_history(history):\n",
        "    acc = history.history['f1']\n",
        "    val_acc = history.history['val_f1']\n",
        "    loss = history.history['loss']\n",
        "    val_loss = history.history['val_loss']\n",
        "    x = range(1, len(acc) + 1)\n",
        "\n",
        "    plt.figure(figsize=(12, 5))\n",
        "    plt.subplot(1, 2, 1)\n",
        "    plt.plot(x, acc, 'b', label='Training f1')\n",
        "    plt.plot(x, val_acc, 'r', label='Validation f1')\n",
        "    plt.title('Training and validation f1')\n",
        "    plt.legend()\n",
        "    plt.subplot(1, 2, 2)\n",
        "    plt.plot(x, loss, 'b', label='Training loss')\n",
        "    plt.plot(x, val_loss, 'r', label='Validation loss')\n",
        "    plt.title('Training and validation loss')\n",
        "    plt.legend()"
      ],
      "execution_count": null,
      "outputs": []
    },
    {
      "cell_type": "code",
      "metadata": {
        "id": "oqSM5NH4epuG",
        "colab_type": "code",
        "colab": {
          "base_uri": "https://localhost:8080/",
          "height": 371
        },
        "outputId": "e5527202-a81e-4537-f0f6-79fc5c508ec0"
      },
      "source": [
        "loss, accuracy = model.evaluate(X_train, y_train, verbose=False)\n",
        "print(\"Training f1: {:.4f}\".format(accuracy))\n",
        "loss, accuracy = model.evaluate(X_test, y_test, verbose=False)\n",
        "print(\"Testing f1:  {:.4f}\".format(accuracy))\n",
        "plot_history(history)"
      ],
      "execution_count": null,
      "outputs": [
        {
          "output_type": "stream",
          "text": [
            "Training f1: 1.0000\n",
            "Testing f1:  0.8156\n"
          ],
          "name": "stdout"
        },
        {
          "output_type": "display_data",
          "data": {
            "image/png": "[encoded data removed]",
            "text/plain": [
              "<Figure size 864x360 with 2 Axes>"
            ]
          },
          "metadata": {
            "tags": []
          }
        }
      ]
    },
    {
      "cell_type": "code",
      "metadata": {
        "id": "dqWpWX9Nevfr",
        "colab_type": "code",
        "colab": {
          "base_uri": "https://localhost:8080/",
          "height": 238
        },
        "outputId": "beb893bf-166a-4fab-e982-adc548ca08c3"
      },
      "source": [
        "df_test = pd.read_fwf(path+'test_source_tweets.txt',sep = \"\\t\",header=None,\n",
        "    names=[\"idTweet\", \"text\"],  # set our own names for the columns\n",
        ")\n",
        "\n",
        "df_test['text'] = df_test['text'].apply(lambda x : text_prepare(x))\n",
        "\n",
        "df_test = df_test.set_index(\"idTweet\")\n",
        "df_test = df_test[\"text\"]\n",
        "df_test"
      ],
      "execution_count": null,
      "outputs": [
        {
          "output_type": "execute_result",
          "data": {
            "text/plain": [
              "idTweet\n",
              "689719109785907200    death toll #bachakhanuniattack rises least 19 ...\n",
              "531300385248800768    head isis abu bakr albaghdadi said critically ...\n",
              "652992524504600576    steve jobs adopted biological father abdulfatt...\n",
              "509473920060104704    microsoft buy mojang report url 2 billion deal...\n",
              "651321040119963648    el chapo puts 100 million bounty donald trumpd...\n",
              "                                            ...                        \n",
              "642432477185867776                                stickers fruit edible\n",
              "693236688538243074    truth nod thexfiles cia releases hundreds decl...\n",
              "504131150429061121    breaking fbi uncovers new audio neighbor skype...\n",
              "692004901455556608    potus announced new reforms address overuse so...\n",
              "692157602554343424               waiting new episode #teenwolf like url\n",
              "Name: text, Length: 213, dtype: object"
            ]
          },
          "metadata": {
            "tags": []
          },
          "execution_count": 47
        }
      ]
    },
    {
      "cell_type": "code",
      "metadata": {
        "id": "APae3e7eU0Ei",
        "colab_type": "code",
        "colab": {
          "base_uri": "https://localhost:8080/",
          "height": 238
        },
        "outputId": "749a2e2b-c818-411c-a2aa-6eb35d91d82a"
      },
      "source": [
        "X_test_final = df_test\n",
        "X_test_final"
      ],
      "execution_count": null,
      "outputs": [
        {
          "output_type": "execute_result",
          "data": {
            "text/plain": [
              "idTweet\n",
              "689719109785907200    death toll #bachakhanuniattack rises least 19 ...\n",
              "531300385248800768    head isis abu bakr albaghdadi said critically ...\n",
              "652992524504600576    steve jobs adopted biological father abdulfatt...\n",
              "509473920060104704    microsoft buy mojang report url 2 billion deal...\n",
              "651321040119963648    el chapo puts 100 million bounty donald trumpd...\n",
              "                                            ...                        \n",
              "642432477185867776                                stickers fruit edible\n",
              "693236688538243074    truth nod thexfiles cia releases hundreds decl...\n",
              "504131150429061121    breaking fbi uncovers new audio neighbor skype...\n",
              "692004901455556608    potus announced new reforms address overuse so...\n",
              "692157602554343424               waiting new episode #teenwolf like url\n",
              "Name: text, Length: 213, dtype: object"
            ]
          },
          "metadata": {
            "tags": []
          },
          "execution_count": 54
        }
      ]
    },
    {
      "cell_type": "code",
      "metadata": {
        "id": "uZgvFW88fZYP",
        "colab_type": "code",
        "colab": {}
      },
      "source": [
        "ids = list(X_test_final.index)"
      ],
      "execution_count": null,
      "outputs": []
    },
    {
      "cell_type": "code",
      "metadata": {
        "id": "jussWpUtUYi9",
        "colab_type": "code",
        "colab": {}
      },
      "source": [
        "vectorizer = CountVectorizer()\n",
        "vectorizer.fit(sentences_train)\n",
        "\n",
        "X_test_final  = vectorizer.transform(df_test)"
      ],
      "execution_count": null,
      "outputs": []
    },
    {
      "cell_type": "code",
      "metadata": {
        "id": "QBpc3zgsUC75",
        "colab_type": "code",
        "colab": {
          "base_uri": "https://localhost:8080/",
          "height": 1000
        },
        "outputId": "7455baf5-aedf-43d8-8540-87cbdee8f9ac"
      },
      "source": [
        "tree = spatial.KDTree(tweets_labels_2)\n",
        "lis = []\n",
        "for i in range(len(ids)):\n",
        "  v1 = model.predict(X_test_final[i,:])\n",
        "  v1_closets = tweets_labels_2[ tree.query(v1)[1] ][0]\n",
        "  index = np.where(np.all(tweets_labels_2==v1_closets,axis=1))[0][0]\n",
        "  l = single_labels[index]\n",
        "  lis.append([ids[i], l])\n",
        "lis"
      ],
      "execution_count": null,
      "outputs": [
        {
          "output_type": "execute_result",
          "data": {
            "text/plain": [
              "[[689719109785907200, 'non-rumor'],\n",
              " [531300385248800768, 'unverified'],\n",
              " [652992524504600576, 'false'],\n",
              " [509473920060104704, 'true'],\n",
              " [651321040119963648, 'false'],\n",
              " [656047932093763584, 'false'],\n",
              " [519447199164665856, 'false'],\n",
              " [580320684305416192, 'unverified'],\n",
              " [544512676643500033, 'true'],\n",
              " [723521076446142465, 'non-rumor'],\n",
              " [500281094239817728, 'unverified'],\n",
              " [693843042546106369, 'non-rumor'],\n",
              " [676586804242309121, 'non-rumor'],\n",
              " [682999206290829312, 'non-rumor'],\n",
              " [553543369604210689, 'unverified'],\n",
              " [562313802369073153, 'true'],\n",
              " [693792605755285504, 'non-rumor'],\n",
              " [614467824313106432, 'true'],\n",
              " [544291965513134080, 'unverified'],\n",
              " [489968646014246912, 'false'],\n",
              " [570341828479725570, 'false'],\n",
              " [727623131494387714, 'unverified'],\n",
              " [524923676484177920, 'true'],\n",
              " [626898253900943360, 'false'],\n",
              " [690954487322796032, 'non-rumor'],\n",
              " [407173794583695360, 'true'],\n",
              " [691789524498845699, 'non-rumor'],\n",
              " [763896522790440960, 'unverified'],\n",
              " [544282227035869184, 'true'],\n",
              " [692833140428017664, 'non-rumor'],\n",
              " [693076140278153217, 'non-rumor'],\n",
              " [688428083540553728, 'non-rumor'],\n",
              " [527138218505175040, 'false'],\n",
              " [651809229842608128, 'unverified'],\n",
              " [380055172896272384, 'false'],\n",
              " [692440373449396224, 'non-rumor'],\n",
              " [544274934835707905, 'true'],\n",
              " [510916647373516800, 'true'],\n",
              " [524993533212897281, 'true'],\n",
              " [407192027714322432, 'true'],\n",
              " [688446106943008768, 'non-rumor'],\n",
              " [516358319317852160, 'unverified'],\n",
              " [539658034382123008, 'false'],\n",
              " [778689027918618625, 'non-rumor'],\n",
              " [614620298877513729, 'true'],\n",
              " [552816020403269632, 'unverified'],\n",
              " [514106939173634048, 'true'],\n",
              " [532206910796468224, 'false'],\n",
              " [407167928313081856, 'true'],\n",
              " [544350567183556608, 'true'],\n",
              " [535252460148113409, 'false'],\n",
              " [549124560793374720, 'false'],\n",
              " [523123023646175233, 'non-rumor'],\n",
              " [651959206287908868, 'non-rumor'],\n",
              " [674713782778654721, 'false'],\n",
              " [536991428694376448, 'true'],\n",
              " [524967711492014080, 'true'],\n",
              " [365052155385749505, 'false'],\n",
              " [692816955837804544, 'non-rumor'],\n",
              " [553590459688570880, 'true'],\n",
              " [547525843749470208, 'unverified'],\n",
              " [318263294098030593, 'false'],\n",
              " [489798219283857408, 'false'],\n",
              " [693344498953383936, 'non-rumor'],\n",
              " [767668607803359234, 'non-rumor'],\n",
              " [517416417164263424, 'true'],\n",
              " [553184482241814530, 'false'],\n",
              " [553550301886955520, 'unverified'],\n",
              " [693087220459270144, 'non-rumor'],\n",
              " [524926472432410625, 'true'],\n",
              " [523555724807262208, 'false'],\n",
              " [692134022839955456, 'non-rumor'],\n",
              " [525040836757958657, 'true'],\n",
              " [524976526891417600, 'true'],\n",
              " [500363126294863876, 'true'],\n",
              " [693826104633737217, 'false'],\n",
              " [491241885399539712, 'false'],\n",
              " [524944881941495809, 'true'],\n",
              " [524950264303075328, 'true'],\n",
              " [510908595144519680, 'true'],\n",
              " [553476880339599360, 'true'],\n",
              " [524951893467234304, 'true'],\n",
              " [544520273718812672, 'true'],\n",
              " [495366618818830336, 'false'],\n",
              " [692623941131722752, 'true'],\n",
              " [690376107825192960, 'non-rumor'],\n",
              " [693476774462820352, 'non-rumor'],\n",
              " [568905632998412288, 'false'],\n",
              " [766568413418356736, 'non-rumor'],\n",
              " [692336523090509824, 'false'],\n",
              " [525024066152169473, 'true'],\n",
              " [538900739880665088, 'unverified'],\n",
              " [731166399389962242, 'unverified'],\n",
              " [554597409351671808, 'false'],\n",
              " [533811170889568256, 'non-rumor'],\n",
              " [693162950358622208, 'non-rumor'],\n",
              " [651825062174195712, 'false'],\n",
              " [651402689352351744, 'false'],\n",
              " [524289058290159616, 'false'],\n",
              " [703234354579898368, 'non-rumor'],\n",
              " [524211911668543488, 'false'],\n",
              " [640118021101604864, 'non-rumor'],\n",
              " [524961908903149568, 'unverified'],\n",
              " [524932935137628160, 'false'],\n",
              " [693240976970752004, 'non-rumor'],\n",
              " [553587672137334785, 'unverified'],\n",
              " [686421576904916992, 'non-rumor'],\n",
              " [623533663947517952, 'true'],\n",
              " [553512735192141826, 'true'],\n",
              " [693135382309896192, 'non-rumor'],\n",
              " [366205297557110784, 'false'],\n",
              " [767541796410839040, 'non-rumor'],\n",
              " [641665203046907904, 'non-rumor'],\n",
              " [641430951403343872, 'false'],\n",
              " [407158558158254081, 'true'],\n",
              " [407262869152358400, 'true'],\n",
              " [524881688825167872, 'false'],\n",
              " [560133068670140417, 'false'],\n",
              " [535282587325833216, 'true'],\n",
              " [693456340790804480, 'true'],\n",
              " [692927739066740741, 'non-rumor'],\n",
              " [693131575261659137, 'non-rumor'],\n",
              " [693443289370882049, 'non-rumor'],\n",
              " [650975967146602496, 'unverified'],\n",
              " [532259028152246272, 'false'],\n",
              " [536808074431184896, 'true'],\n",
              " [742055437932040193, 'unverified'],\n",
              " [500378223977721856, 'unverified'],\n",
              " [666051332504207360, 'false'],\n",
              " [544567299102244864, 'unverified'],\n",
              " [638047610973089793, 'false'],\n",
              " [524929497205055488, 'unverified'],\n",
              " [407188779255222273, 'true'],\n",
              " [767203096472719364, 'non-rumor'],\n",
              " [552498516225179650, 'true'],\n",
              " [614594667225571328, 'true'],\n",
              " [356268980211687424, 'false'],\n",
              " [689208632148365314, 'non-rumor'],\n",
              " [661299012386095105, 'false'],\n",
              " [762793077509464064, 'non-rumor'],\n",
              " [535474881090322432, 'true'],\n",
              " [690174644071047168, 'false'],\n",
              " [407231591191035904, 'true'],\n",
              " [693912520923295745, 'non-rumor'],\n",
              " [407262953533353984, 'true'],\n",
              " [500308076004929537, 'unverified'],\n",
              " [524950339074523137, 'true'],\n",
              " [692267960686284800, 'non-rumor'],\n",
              " [692023855926374400, 'non-rumor'],\n",
              " [665358434351509504, 'false'],\n",
              " [689922870689009664, 'non-rumor'],\n",
              " [524925600318754816, 'true'],\n",
              " [387031585834278912, 'false'],\n",
              " [387006553124896768, 'false'],\n",
              " [553586897168392192, 'true'],\n",
              " [407163869673443328, 'true'],\n",
              " [514308277803294721, 'false'],\n",
              " [407189015582887936, 'true'],\n",
              " [500278294055768064, 'unverified'],\n",
              " [516414874348298240, 'unverified'],\n",
              " [536547921542791170, 'true'],\n",
              " [686701278785843200, 'non-rumor'],\n",
              " [692925163994796033, 'non-rumor'],\n",
              " [618192748735299584, 'false'],\n",
              " [626516248206135296, 'false'],\n",
              " [614648099542204416, 'true'],\n",
              " [714567472712589312, 'unverified'],\n",
              " [757748522481491968, 'false'],\n",
              " [693355140284334081, 'unverified'],\n",
              " [778572032531427332, 'unverified'],\n",
              " [544514570367168512, 'true'],\n",
              " [536804445678755840, 'true'],\n",
              " [614594259900080128, 'true'],\n",
              " [525029684095221760, 'true'],\n",
              " [665309822208729088, 'non-rumor'],\n",
              " [506784541696991232, 'false'],\n",
              " [568075025418317826, 'non-rumor'],\n",
              " [532281981795848192, 'false'],\n",
              " [500270780832174080, 'unverified'],\n",
              " [692911086920667136, 'non-rumor'],\n",
              " [504500863944376321, 'false'],\n",
              " [612841482823729152, 'false'],\n",
              " [666633171325353989, 'false'],\n",
              " [525285199530455040, 'true'],\n",
              " [523820806917603328, 'true'],\n",
              " [524965786059026432, 'true'],\n",
              " [614054616154550273, 'false'],\n",
              " [527947775905103872, 'unverified'],\n",
              " [649903655160815616, 'non-rumor'],\n",
              " [663722803489808384, 'false'],\n",
              " [656825206045020160, 'false'],\n",
              " [692142338890661888, 'true'],\n",
              " [681824512120324096, 'non-rumor'],\n",
              " [552792913910833152, 'true'],\n",
              " [642145732435292160, 'non-rumor'],\n",
              " [563123548857053184, 'false'],\n",
              " [265953285247209472, 'non-rumor'],\n",
              " [655812191233417216, 'unverified'],\n",
              " [500377145349521411, 'unverified'],\n",
              " [761381302260031489, 'non-rumor'],\n",
              " [523098334421319680, 'false'],\n",
              " [693795905049329664, 'false'],\n",
              " [693060960001597440, 'false'],\n",
              " [687956181646753792, 'non-rumor'],\n",
              " [649985459389661184, 'true'],\n",
              " [407159686786732032, 'true'],\n",
              " [524927281048080385, 'true'],\n",
              " [668872645589471232, 'false'],\n",
              " [642432477185867776, 'false'],\n",
              " [693236688538243074, 'non-rumor'],\n",
              " [504131150429061121, 'true'],\n",
              " [692004901455556608, 'non-rumor'],\n",
              " [692157602554343424, 'false']]"
            ]
          },
          "metadata": {
            "tags": []
          },
          "execution_count": 57
        }
      ]
    },
    {
      "cell_type": "code",
      "metadata": {
        "id": "QnSuJRmyX2X8",
        "colab_type": "code",
        "colab": {}
      },
      "source": [
        "ids2 = list(labels.index)\n",
        "labels2 = list(labels)\n",
        "lis2 = []\n",
        "for i in range(len(ids2)):\n",
        "  lis2.append([ids2[i], labels2[i]])"
      ],
      "execution_count": null,
      "outputs": []
    },
    {
      "cell_type": "code",
      "metadata": {
        "id": "qtrfXYF-fktS",
        "colab_type": "code",
        "colab": {}
      },
      "source": [
        "#lis = set(map(tuple, lis))\n",
        "#lis2 = set(map(tuple, lis2))\n",
        "#len(lis.symmetric_difference(lis2))"
      ],
      "execution_count": null,
      "outputs": []
    },
    {
      "cell_type": "code",
      "metadata": {
        "id": "GH8yePFef2NW",
        "colab_type": "code",
        "colab": {}
      },
      "source": [
        "#lis.symmetric_difference(lis2)"
      ],
      "execution_count": null,
      "outputs": []
    },
    {
      "cell_type": "code",
      "metadata": {
        "id": "VZz3yy84lZYZ",
        "colab_type": "code",
        "colab": {}
      },
      "source": [
        "df_final = pd.DataFrame.from_records(lis, columns = [\"id\",\"label\"])\n",
        "columnsTitles=[\"label\",\"id\"]\n",
        "df_final=df_final.reindex(columns=columnsTitles)"
      ],
      "execution_count": null,
      "outputs": []
    },
    {
      "cell_type": "code",
      "metadata": {
        "id": "ip3dJGoLlm84",
        "colab_type": "code",
        "colab": {
          "base_uri": "https://localhost:8080/",
          "height": 419
        },
        "outputId": "5ab49596-da5e-48df-a8c5-53292865cb8f"
      },
      "source": [
        "df_final"
      ],
      "execution_count": null,
      "outputs": [
        {
          "output_type": "execute_result",
          "data": {
            "text/html": [
              "<div>\n",
              "<style scoped>\n",
              "    .dataframe tbody tr th:only-of-type {\n",
              "        vertical-align: middle;\n",
              "    }\n",
              "\n",
              "    .dataframe tbody tr th {\n",
              "        vertical-align: top;\n",
              "    }\n",
              "\n",
              "    .dataframe thead th {\n",
              "        text-align: right;\n",
              "    }\n",
              "</style>\n",
              "<table border=\"1\" class=\"dataframe\">\n",
              "  <thead>\n",
              "    <tr style=\"text-align: right;\">\n",
              "      <th></th>\n",
              "      <th>label</th>\n",
              "      <th>id</th>\n",
              "    </tr>\n",
              "  </thead>\n",
              "  <tbody>\n",
              "    <tr>\n",
              "      <th>0</th>\n",
              "      <td>non-rumor</td>\n",
              "      <td>689719109785907200</td>\n",
              "    </tr>\n",
              "    <tr>\n",
              "      <th>1</th>\n",
              "      <td>unverified</td>\n",
              "      <td>531300385248800768</td>\n",
              "    </tr>\n",
              "    <tr>\n",
              "      <th>2</th>\n",
              "      <td>false</td>\n",
              "      <td>652992524504600576</td>\n",
              "    </tr>\n",
              "    <tr>\n",
              "      <th>3</th>\n",
              "      <td>true</td>\n",
              "      <td>509473920060104704</td>\n",
              "    </tr>\n",
              "    <tr>\n",
              "      <th>4</th>\n",
              "      <td>false</td>\n",
              "      <td>651321040119963648</td>\n",
              "    </tr>\n",
              "    <tr>\n",
              "      <th>...</th>\n",
              "      <td>...</td>\n",
              "      <td>...</td>\n",
              "    </tr>\n",
              "    <tr>\n",
              "      <th>208</th>\n",
              "      <td>false</td>\n",
              "      <td>642432477185867776</td>\n",
              "    </tr>\n",
              "    <tr>\n",
              "      <th>209</th>\n",
              "      <td>non-rumor</td>\n",
              "      <td>693236688538243074</td>\n",
              "    </tr>\n",
              "    <tr>\n",
              "      <th>210</th>\n",
              "      <td>true</td>\n",
              "      <td>504131150429061121</td>\n",
              "    </tr>\n",
              "    <tr>\n",
              "      <th>211</th>\n",
              "      <td>non-rumor</td>\n",
              "      <td>692004901455556608</td>\n",
              "    </tr>\n",
              "    <tr>\n",
              "      <th>212</th>\n",
              "      <td>false</td>\n",
              "      <td>692157602554343424</td>\n",
              "    </tr>\n",
              "  </tbody>\n",
              "</table>\n",
              "<p>213 rows × 2 columns</p>\n",
              "</div>"
            ],
            "text/plain": [
              "          label                  id\n",
              "0     non-rumor  689719109785907200\n",
              "1    unverified  531300385248800768\n",
              "2         false  652992524504600576\n",
              "3          true  509473920060104704\n",
              "4         false  651321040119963648\n",
              "..          ...                 ...\n",
              "208       false  642432477185867776\n",
              "209   non-rumor  693236688538243074\n",
              "210        true  504131150429061121\n",
              "211   non-rumor  692004901455556608\n",
              "212       false  692157602554343424\n",
              "\n",
              "[213 rows x 2 columns]"
            ]
          },
          "metadata": {
            "tags": []
          },
          "execution_count": 62
        }
      ]
    },
    {
      "cell_type": "code",
      "metadata": {
        "id": "uYG8o8YlloRy",
        "colab_type": "code",
        "colab": {}
      },
      "source": [
        "df_final.to_csv('file_name.csv', index=False)"
      ],
      "execution_count": null,
      "outputs": []
    },
    {
      "cell_type": "code",
      "metadata": {
        "id": "cS8-S3EzmqKi",
        "colab_type": "code",
        "colab": {}
      },
      "source": [
        ""
      ],
      "execution_count": null,
      "outputs": []
    },
    {
      "cell_type": "markdown",
      "metadata": {
        "id": "avt_lOLKLwNM",
        "colab_type": "text"
      },
      "source": [
        "# Segunda forma (usando GloVe)"
      ]
    },
    {
      "cell_type": "code",
      "metadata": {
        "id": "u02qJEajN5J_",
        "colab_type": "code",
        "colab": {}
      },
      "source": [
        "path = \"INF-395-477---Tareas/Taller_2/kaggle/\"\n",
        "#os.mkdir(\"new_train\")"
      ],
      "execution_count": 92,
      "outputs": []
    },
    {
      "cell_type": "markdown",
      "metadata": {
        "id": "HMG_jphysrty",
        "colab_type": "text"
      },
      "source": [
        "## Preparando los datos"
      ]
    },
    {
      "cell_type": "markdown",
      "metadata": {
        "id": "34Zi-8j-bHEq",
        "colab_type": "text"
      },
      "source": [
        "Esta primera parte es para pasar los datos a dataframe en pandas"
      ]
    },
    {
      "cell_type": "code",
      "metadata": {
        "id": "M9RXUt9Sdhaq",
        "colab_type": "code",
        "colab": {}
      },
      "source": [
        "x_train_total = pd.read_csv(path + \"/train_source_tweets.txt\",  sep=\"\\t\", header=None) \n",
        "x_train_total.columns = [\"id\", \"tweet\"]\n",
        "x_test = pd.read_csv(path + \"/test_source_tweets.txt\",  sep=\"\\t\", header=None) \n",
        "x_test.columns = [\"id\", \"tweet\"]"
      ],
      "execution_count": 93,
      "outputs": []
    },
    {
      "cell_type": "code",
      "metadata": {
        "id": "LKuA76qy-RW-",
        "colab_type": "code",
        "colab": {}
      },
      "source": [
        "y_train = pd.read_csv(\"/content/INF-395-477---Tareas/Taller_2/kaggle/train_labels.csv\") "
      ],
      "execution_count": 94,
      "outputs": []
    },
    {
      "cell_type": "code",
      "metadata": {
        "id": "ModuH8P9-z_K",
        "colab_type": "code",
        "colab": {
          "base_uri": "https://localhost:8080/",
          "height": 197
        },
        "outputId": "5a9c0048-7bc3-4485-f107-2746db2d1735"
      },
      "source": [
        "y_train.head()"
      ],
      "execution_count": 95,
      "outputs": [
        {
          "output_type": "execute_result",
          "data": {
            "text/html": [
              "<div>\n",
              "<style scoped>\n",
              "    .dataframe tbody tr th:only-of-type {\n",
              "        vertical-align: middle;\n",
              "    }\n",
              "\n",
              "    .dataframe tbody tr th {\n",
              "        vertical-align: top;\n",
              "    }\n",
              "\n",
              "    .dataframe thead th {\n",
              "        text-align: right;\n",
              "    }\n",
              "</style>\n",
              "<table border=\"1\" class=\"dataframe\">\n",
              "  <thead>\n",
              "    <tr style=\"text-align: right;\">\n",
              "      <th></th>\n",
              "      <th>label</th>\n",
              "      <th>id</th>\n",
              "    </tr>\n",
              "  </thead>\n",
              "  <tbody>\n",
              "    <tr>\n",
              "      <th>0</th>\n",
              "      <td>non-rumor</td>\n",
              "      <td>692735698349199360</td>\n",
              "    </tr>\n",
              "    <tr>\n",
              "      <th>1</th>\n",
              "      <td>unverified</td>\n",
              "      <td>525008463819464704</td>\n",
              "    </tr>\n",
              "    <tr>\n",
              "      <th>2</th>\n",
              "      <td>false</td>\n",
              "      <td>505611045897924608</td>\n",
              "    </tr>\n",
              "    <tr>\n",
              "      <th>3</th>\n",
              "      <td>non-rumor</td>\n",
              "      <td>693466724822323200</td>\n",
              "    </tr>\n",
              "    <tr>\n",
              "      <th>4</th>\n",
              "      <td>true</td>\n",
              "      <td>510922415468449792</td>\n",
              "    </tr>\n",
              "  </tbody>\n",
              "</table>\n",
              "</div>"
            ],
            "text/plain": [
              "        label                  id\n",
              "0   non-rumor  692735698349199360\n",
              "1  unverified  525008463819464704\n",
              "2       false  505611045897924608\n",
              "3   non-rumor  693466724822323200\n",
              "4        true  510922415468449792"
            ]
          },
          "metadata": {
            "tags": []
          },
          "execution_count": 95
        }
      ]
    },
    {
      "cell_type": "code",
      "metadata": {
        "id": "bjfOCY14ewXj",
        "colab_type": "code",
        "colab": {
          "base_uri": "https://localhost:8080/",
          "height": 197
        },
        "outputId": "dc8763e9-6cf5-4841-e42b-023d257c718b"
      },
      "source": [
        "x_train_total.head()"
      ],
      "execution_count": 96,
      "outputs": [
        {
          "output_type": "execute_result",
          "data": {
            "text/html": [
              "<div>\n",
              "<style scoped>\n",
              "    .dataframe tbody tr th:only-of-type {\n",
              "        vertical-align: middle;\n",
              "    }\n",
              "\n",
              "    .dataframe tbody tr th {\n",
              "        vertical-align: top;\n",
              "    }\n",
              "\n",
              "    .dataframe thead th {\n",
              "        text-align: right;\n",
              "    }\n",
              "</style>\n",
              "<table border=\"1\" class=\"dataframe\">\n",
              "  <thead>\n",
              "    <tr style=\"text-align: right;\">\n",
              "      <th></th>\n",
              "      <th>id</th>\n",
              "      <th>tweet</th>\n",
              "    </tr>\n",
              "  </thead>\n",
              "  <tbody>\n",
              "    <tr>\n",
              "      <th>0</th>\n",
              "      <td>692735698349199360</td>\n",
              "      <td>north korea 'planning some kind of rocket laun...</td>\n",
              "    </tr>\n",
              "    <tr>\n",
              "      <th>1</th>\n",
              "      <td>525008463819464704</td>\n",
              "      <td>meet kevin vickers, the hero who shot down the...</td>\n",
              "    </tr>\n",
              "    <tr>\n",
              "      <th>2</th>\n",
              "      <td>505611045897924608</td>\n",
              "      <td>15 year old who \"swatted\" gamer convicted of d...</td>\n",
              "    </tr>\n",
              "    <tr>\n",
              "      <th>3</th>\n",
              "      <td>693466724822323200</td>\n",
              "      <td>audio recordings reveal cpr started 11 minutes...</td>\n",
              "    </tr>\n",
              "    <tr>\n",
              "      <th>4</th>\n",
              "      <td>510922415468449792</td>\n",
              "      <td>awful mt @scclemons:uk aid worker david haines...</td>\n",
              "    </tr>\n",
              "  </tbody>\n",
              "</table>\n",
              "</div>"
            ],
            "text/plain": [
              "                   id                                              tweet\n",
              "0  692735698349199360  north korea 'planning some kind of rocket laun...\n",
              "1  525008463819464704  meet kevin vickers, the hero who shot down the...\n",
              "2  505611045897924608  15 year old who \"swatted\" gamer convicted of d...\n",
              "3  693466724822323200  audio recordings reveal cpr started 11 minutes...\n",
              "4  510922415468449792  awful mt @scclemons:uk aid worker david haines..."
            ]
          },
          "metadata": {
            "tags": []
          },
          "execution_count": 96
        }
      ]
    },
    {
      "cell_type": "code",
      "metadata": {
        "id": "PGkB7Jxq_Bd1",
        "colab_type": "code",
        "colab": {}
      },
      "source": [
        "data_train_total = x_train_total.set_index('id').join(y_train.set_index('id'))"
      ],
      "execution_count": 97,
      "outputs": []
    },
    {
      "cell_type": "code",
      "metadata": {
        "id": "xkvsqXLlBl5Z",
        "colab_type": "code",
        "colab": {}
      },
      "source": [
        "labels = ['non-rumor', 'unverified', 'false', 'true']"
      ],
      "execution_count": 98,
      "outputs": []
    },
    {
      "cell_type": "code",
      "metadata": {
        "id": "9SezzX_9EgzO",
        "colab_type": "code",
        "colab": {}
      },
      "source": [
        "for i in labels:\n",
        "  new_colum = []\n",
        "  for label in data_train_total[\"label\"]:\n",
        "    if label == i:\n",
        "      new_colum.append(1)\n",
        "    else:\n",
        "      new_colum.append(0)\n",
        "  data_train_total[\"label_\"+i] = new_colum"
      ],
      "execution_count": 99,
      "outputs": []
    },
    {
      "cell_type": "code",
      "metadata": {
        "id": "Y1IERouqK_7l",
        "colab_type": "code",
        "colab": {}
      },
      "source": [
        "y_train_total = data_train_total[['label_non-rumor', 'label_unverified', \"label_false\", \"label_true\"]]"
      ],
      "execution_count": 100,
      "outputs": []
    },
    {
      "cell_type": "code",
      "metadata": {
        "id": "A0mzO7qWMaVx",
        "colab_type": "code",
        "colab": {
          "base_uri": "https://localhost:8080/",
          "height": 227
        },
        "outputId": "59c27206-6ed1-4b7d-ed01-91f93fed72dd"
      },
      "source": [
        "y_train_total.head()"
      ],
      "execution_count": 101,
      "outputs": [
        {
          "output_type": "execute_result",
          "data": {
            "text/html": [
              "<div>\n",
              "<style scoped>\n",
              "    .dataframe tbody tr th:only-of-type {\n",
              "        vertical-align: middle;\n",
              "    }\n",
              "\n",
              "    .dataframe tbody tr th {\n",
              "        vertical-align: top;\n",
              "    }\n",
              "\n",
              "    .dataframe thead th {\n",
              "        text-align: right;\n",
              "    }\n",
              "</style>\n",
              "<table border=\"1\" class=\"dataframe\">\n",
              "  <thead>\n",
              "    <tr style=\"text-align: right;\">\n",
              "      <th></th>\n",
              "      <th>label_non-rumor</th>\n",
              "      <th>label_unverified</th>\n",
              "      <th>label_false</th>\n",
              "      <th>label_true</th>\n",
              "    </tr>\n",
              "    <tr>\n",
              "      <th>id</th>\n",
              "      <th></th>\n",
              "      <th></th>\n",
              "      <th></th>\n",
              "      <th></th>\n",
              "    </tr>\n",
              "  </thead>\n",
              "  <tbody>\n",
              "    <tr>\n",
              "      <th>692735698349199360</th>\n",
              "      <td>1</td>\n",
              "      <td>0</td>\n",
              "      <td>0</td>\n",
              "      <td>0</td>\n",
              "    </tr>\n",
              "    <tr>\n",
              "      <th>525008463819464704</th>\n",
              "      <td>0</td>\n",
              "      <td>1</td>\n",
              "      <td>0</td>\n",
              "      <td>0</td>\n",
              "    </tr>\n",
              "    <tr>\n",
              "      <th>505611045897924608</th>\n",
              "      <td>0</td>\n",
              "      <td>0</td>\n",
              "      <td>1</td>\n",
              "      <td>0</td>\n",
              "    </tr>\n",
              "    <tr>\n",
              "      <th>693466724822323200</th>\n",
              "      <td>1</td>\n",
              "      <td>0</td>\n",
              "      <td>0</td>\n",
              "      <td>0</td>\n",
              "    </tr>\n",
              "    <tr>\n",
              "      <th>510922415468449792</th>\n",
              "      <td>0</td>\n",
              "      <td>0</td>\n",
              "      <td>0</td>\n",
              "      <td>1</td>\n",
              "    </tr>\n",
              "  </tbody>\n",
              "</table>\n",
              "</div>"
            ],
            "text/plain": [
              "                    label_non-rumor  label_unverified  label_false  label_true\n",
              "id                                                                            \n",
              "692735698349199360                1                 0            0           0\n",
              "525008463819464704                0                 1            0           0\n",
              "505611045897924608                0                 0            1           0\n",
              "693466724822323200                1                 0            0           0\n",
              "510922415468449792                0                 0            0           1"
            ]
          },
          "metadata": {
            "tags": []
          },
          "execution_count": 101
        }
      ]
    },
    {
      "cell_type": "code",
      "metadata": {
        "id": "QBJfaSFaFMvy",
        "colab_type": "code",
        "colab": {
          "base_uri": "https://localhost:8080/",
          "height": 227
        },
        "outputId": "978bacd8-d0fb-4201-a3bf-20bb543075ba"
      },
      "source": [
        "data_train_total.head()"
      ],
      "execution_count": 102,
      "outputs": [
        {
          "output_type": "execute_result",
          "data": {
            "text/html": [
              "<div>\n",
              "<style scoped>\n",
              "    .dataframe tbody tr th:only-of-type {\n",
              "        vertical-align: middle;\n",
              "    }\n",
              "\n",
              "    .dataframe tbody tr th {\n",
              "        vertical-align: top;\n",
              "    }\n",
              "\n",
              "    .dataframe thead th {\n",
              "        text-align: right;\n",
              "    }\n",
              "</style>\n",
              "<table border=\"1\" class=\"dataframe\">\n",
              "  <thead>\n",
              "    <tr style=\"text-align: right;\">\n",
              "      <th></th>\n",
              "      <th>tweet</th>\n",
              "      <th>label</th>\n",
              "      <th>label_non-rumor</th>\n",
              "      <th>label_unverified</th>\n",
              "      <th>label_false</th>\n",
              "      <th>label_true</th>\n",
              "    </tr>\n",
              "    <tr>\n",
              "      <th>id</th>\n",
              "      <th></th>\n",
              "      <th></th>\n",
              "      <th></th>\n",
              "      <th></th>\n",
              "      <th></th>\n",
              "      <th></th>\n",
              "    </tr>\n",
              "  </thead>\n",
              "  <tbody>\n",
              "    <tr>\n",
              "      <th>692735698349199360</th>\n",
              "      <td>north korea 'planning some kind of rocket laun...</td>\n",
              "      <td>non-rumor</td>\n",
              "      <td>1</td>\n",
              "      <td>0</td>\n",
              "      <td>0</td>\n",
              "      <td>0</td>\n",
              "    </tr>\n",
              "    <tr>\n",
              "      <th>525008463819464704</th>\n",
              "      <td>meet kevin vickers, the hero who shot down the...</td>\n",
              "      <td>unverified</td>\n",
              "      <td>0</td>\n",
              "      <td>1</td>\n",
              "      <td>0</td>\n",
              "      <td>0</td>\n",
              "    </tr>\n",
              "    <tr>\n",
              "      <th>505611045897924608</th>\n",
              "      <td>15 year old who \"swatted\" gamer convicted of d...</td>\n",
              "      <td>false</td>\n",
              "      <td>0</td>\n",
              "      <td>0</td>\n",
              "      <td>1</td>\n",
              "      <td>0</td>\n",
              "    </tr>\n",
              "    <tr>\n",
              "      <th>693466724822323200</th>\n",
              "      <td>audio recordings reveal cpr started 11 minutes...</td>\n",
              "      <td>non-rumor</td>\n",
              "      <td>1</td>\n",
              "      <td>0</td>\n",
              "      <td>0</td>\n",
              "      <td>0</td>\n",
              "    </tr>\n",
              "    <tr>\n",
              "      <th>510922415468449792</th>\n",
              "      <td>awful mt @scclemons:uk aid worker david haines...</td>\n",
              "      <td>true</td>\n",
              "      <td>0</td>\n",
              "      <td>0</td>\n",
              "      <td>0</td>\n",
              "      <td>1</td>\n",
              "    </tr>\n",
              "  </tbody>\n",
              "</table>\n",
              "</div>"
            ],
            "text/plain": [
              "                                                                tweet  ... label_true\n",
              "id                                                                     ...           \n",
              "692735698349199360  north korea 'planning some kind of rocket laun...  ...          0\n",
              "525008463819464704  meet kevin vickers, the hero who shot down the...  ...          0\n",
              "505611045897924608  15 year old who \"swatted\" gamer convicted of d...  ...          0\n",
              "693466724822323200  audio recordings reveal cpr started 11 minutes...  ...          0\n",
              "510922415468449792  awful mt @scclemons:uk aid worker david haines...  ...          1\n",
              "\n",
              "[5 rows x 6 columns]"
            ]
          },
          "metadata": {
            "tags": []
          },
          "execution_count": 102
        }
      ]
    },
    {
      "cell_type": "code",
      "metadata": {
        "id": "RIG74FBqImp1",
        "colab_type": "code",
        "colab": {
          "base_uri": "https://localhost:8080/",
          "height": 33
        },
        "outputId": "a3618189-ec74-4c36-882e-9905a4606f73"
      },
      "source": [
        "len(data_train_total)"
      ],
      "execution_count": 103,
      "outputs": [
        {
          "output_type": "execute_result",
          "data": {
            "text/plain": [
              "1926"
            ]
          },
          "metadata": {
            "tags": []
          },
          "execution_count": 103
        }
      ]
    },
    {
      "cell_type": "code",
      "metadata": {
        "id": "egWrFvTdFtWD",
        "colab_type": "code",
        "colab": {}
      },
      "source": [
        "cant_train = 1540"
      ],
      "execution_count": 104,
      "outputs": []
    },
    {
      "cell_type": "code",
      "metadata": {
        "id": "ulPpO3ewMp3C",
        "colab_type": "code",
        "colab": {}
      },
      "source": [
        ""
      ],
      "execution_count": 104,
      "outputs": []
    },
    {
      "cell_type": "markdown",
      "metadata": {
        "id": "WcQPRDNss0EA",
        "colab_type": "text"
      },
      "source": [
        "## Procesamiento de los tweets"
      ]
    },
    {
      "cell_type": "markdown",
      "metadata": {
        "id": "04ox_WTlbN2C",
        "colab_type": "text"
      },
      "source": [
        "Aquí se trabaja los tweet, lematizandolos y sacando los stopwords"
      ]
    },
    {
      "cell_type": "code",
      "metadata": {
        "id": "jfUZpHoJkBAx",
        "colab_type": "code",
        "colab": {}
      },
      "source": [
        "tweets_train = x_train_total['tweet'].values.tolist()\n",
        "tweets_test = x_test['tweet'].values.tolist()"
      ],
      "execution_count": 105,
      "outputs": []
    },
    {
      "cell_type": "code",
      "metadata": {
        "id": "EdN77Zdkfb4x",
        "colab_type": "code",
        "colab": {
          "base_uri": "https://localhost:8080/",
          "height": 133
        },
        "outputId": "31e5e003-59d3-44b1-f2a7-adcc0a133472"
      },
      "source": [
        "#Se realiza sentiment analisis\n",
        "import nltk\n",
        "nltk.download('stopwords')\n",
        "nltk.download('punkt')\n",
        "nltk.download('wordnet')"
      ],
      "execution_count": 106,
      "outputs": [
        {
          "output_type": "stream",
          "text": [
            "[nltk_data] Downloading package stopwords to /root/nltk_data...\n",
            "[nltk_data]   Package stopwords is already up-to-date!\n",
            "[nltk_data] Downloading package punkt to /root/nltk_data...\n",
            "[nltk_data]   Package punkt is already up-to-date!\n",
            "[nltk_data] Downloading package wordnet to /root/nltk_data...\n",
            "[nltk_data]   Package wordnet is already up-to-date!\n"
          ],
          "name": "stdout"
        },
        {
          "output_type": "execute_result",
          "data": {
            "text/plain": [
              "True"
            ]
          },
          "metadata": {
            "tags": []
          },
          "execution_count": 106
        }
      ]
    },
    {
      "cell_type": "code",
      "metadata": {
        "id": "8EHBU7_sjNpd",
        "colab_type": "code",
        "colab": {}
      },
      "source": [
        "# Se quitan los urls, hastag, menciones y fotos en el tweet\n",
        "import re\n",
        "from nltk.corpus import stopwords\n",
        "from nltk import WordNetLemmatizer, word_tokenize\n",
        "def base_word(word):\n",
        "    wordlemmatizer = WordNetLemmatizer()\n",
        "    return wordlemmatizer.lemmatize(word) \n",
        "def word_extractor(text):\n",
        "    # split into words\n",
        "    from nltk.tokenize import word_tokenize\n",
        "    tokens = word_tokenize(text)\n",
        "    # convert to lower case\n",
        "    tokens = [w.lower() for w in tokens]\n",
        "    # remove punctuation from each word\n",
        "    import string\n",
        "    table = str.maketrans('', '', string.punctuation)\n",
        "    stripped = [w.translate(table) for w in tokens]\n",
        "    # remove remaining tokens that are not alphabetic\n",
        "    words = [word for word in stripped if word.isalpha()]\n",
        "    # filter out stop words\n",
        "    stop_words = set(stopwords.words('english'))\n",
        "    words = [w for w in words if not w in stop_words]\n",
        "    return words\n",
        "\n",
        "def clean_tweet(tweets):\n",
        "    tweets_clean = []\n",
        "    for tweet_raw in tweets:\n",
        "        #tweet_clean = re.sub(r'(?P<url>https?://[^\\s]+)', '', tweet_raw, flags=re.MULTILINE) #se extraen las url\n",
        "        #tweet_clean = re.sub(r'#(\\w+)', '', tweet_clean, flags=re.MULTILINE) #se extraen los hashtag\n",
        "        #tweet_clean = re.sub(r'@([^\\s:]+)', '', tweet_clean, flags=re.MULTILINE) #se extraen las menciones\n",
        "        #tweet_clean = re.sub(r'pic.twitter.com/([^\\s:]+)', '', tweet_clean, flags=re.MULTILINE) #se extaen las url de imagenes\n",
        "        tweet_clean = word_extractor(tweet_raw)\n",
        "        tweets_clean.append(tweet_clean)\n",
        "    print(\"ejemplos:\",tweets_clean[0:5])\n",
        "    return tweets_clean"
      ],
      "execution_count": 107,
      "outputs": []
    },
    {
      "cell_type": "code",
      "metadata": {
        "id": "nHfVb5Hbvj_v",
        "colab_type": "code",
        "colab": {
          "base_uri": "https://localhost:8080/",
          "height": 70
        },
        "outputId": "14b68cdf-b84c-4669-ec12-8baaa9fcdcac"
      },
      "source": [
        "x_train_total['words'] = clean_tweet(tweets_train)\n",
        "x_test['words'] = clean_tweet(tweets_test)"
      ],
      "execution_count": 108,
      "outputs": [
        {
          "output_type": "stream",
          "text": [
            "ejemplos: [['north', 'korea', 'planning', 'kind', 'rocket', 'launch', 'us', 'officials', 'say', 'citing', 'increased', 'activity', 'test', 'site', 'url'], ['meet', 'kevin', 'vickers', 'hero', 'shot', 'parliament', 'hill', 'gunman', 'ottawashooting', 'url', 'url'], ['year', 'old', 'swatted', 'gamer', 'convicted', 'domestic', 'terrorism', 'years', 'life', 'federal', 'prison', 'url'], ['audio', 'recordings', 'reveal', 'cpr', 'started', 'minutes', 'staff', 'found', 'gynnya', 'mcmillen', 'url', 'url'], ['awful', 'mt', 'scclemons', 'uk', 'aid', 'worker', 'david', 'haines', 'beheaded', 'isis', 'remember', 'great', 'man', 'way', 'isis', 'wants', 'url']]\n",
            "ejemplos: [['death', 'toll', 'bachakhanuniattack', 'rises', 'least', 'army', 'official', 'says', 'firing', 'stopped', 'campus', 'searched', 'url'], ['head', 'isis', 'abu', 'bakr', 'albaghdadi', 'said', 'critically', 'wounded', 'us', 'air', 'strike', 'url'], ['steve', 'jobs', 'adopted', 'biological', 'father', 'abdulfattah', 'jandali', 'syrian', 'muslim'], ['microsoft', 'buy', 'mojang', 'report', 'url', 'billion', 'deal', 'could', 'signed', 'week', 'url'], ['el', 'chapo', 'puts', 'million', 'bounty', 'donald', 'trump', 'dead', 'alive', 'url']]\n"
          ],
          "name": "stdout"
        }
      ]
    },
    {
      "cell_type": "markdown",
      "metadata": {
        "id": "JZD3Vgq8xLn1",
        "colab_type": "text"
      },
      "source": [
        "Finalmente queda una lista con las palabras lematizadas:"
      ]
    },
    {
      "cell_type": "code",
      "metadata": {
        "id": "_W8j9qjZxFew",
        "colab_type": "code",
        "colab": {
          "base_uri": "https://localhost:8080/",
          "height": 197
        },
        "outputId": "f1a58d04-4279-4b67-a2df-90d46a2beaec"
      },
      "source": [
        "x_train_total.head()"
      ],
      "execution_count": 109,
      "outputs": [
        {
          "output_type": "execute_result",
          "data": {
            "text/html": [
              "<div>\n",
              "<style scoped>\n",
              "    .dataframe tbody tr th:only-of-type {\n",
              "        vertical-align: middle;\n",
              "    }\n",
              "\n",
              "    .dataframe tbody tr th {\n",
              "        vertical-align: top;\n",
              "    }\n",
              "\n",
              "    .dataframe thead th {\n",
              "        text-align: right;\n",
              "    }\n",
              "</style>\n",
              "<table border=\"1\" class=\"dataframe\">\n",
              "  <thead>\n",
              "    <tr style=\"text-align: right;\">\n",
              "      <th></th>\n",
              "      <th>id</th>\n",
              "      <th>tweet</th>\n",
              "      <th>words</th>\n",
              "    </tr>\n",
              "  </thead>\n",
              "  <tbody>\n",
              "    <tr>\n",
              "      <th>0</th>\n",
              "      <td>692735698349199360</td>\n",
              "      <td>north korea 'planning some kind of rocket laun...</td>\n",
              "      <td>[north, korea, planning, kind, rocket, launch,...</td>\n",
              "    </tr>\n",
              "    <tr>\n",
              "      <th>1</th>\n",
              "      <td>525008463819464704</td>\n",
              "      <td>meet kevin vickers, the hero who shot down the...</td>\n",
              "      <td>[meet, kevin, vickers, hero, shot, parliament,...</td>\n",
              "    </tr>\n",
              "    <tr>\n",
              "      <th>2</th>\n",
              "      <td>505611045897924608</td>\n",
              "      <td>15 year old who \"swatted\" gamer convicted of d...</td>\n",
              "      <td>[year, old, swatted, gamer, convicted, domesti...</td>\n",
              "    </tr>\n",
              "    <tr>\n",
              "      <th>3</th>\n",
              "      <td>693466724822323200</td>\n",
              "      <td>audio recordings reveal cpr started 11 minutes...</td>\n",
              "      <td>[audio, recordings, reveal, cpr, started, minu...</td>\n",
              "    </tr>\n",
              "    <tr>\n",
              "      <th>4</th>\n",
              "      <td>510922415468449792</td>\n",
              "      <td>awful mt @scclemons:uk aid worker david haines...</td>\n",
              "      <td>[awful, mt, scclemons, uk, aid, worker, david,...</td>\n",
              "    </tr>\n",
              "  </tbody>\n",
              "</table>\n",
              "</div>"
            ],
            "text/plain": [
              "                   id  ...                                              words\n",
              "0  692735698349199360  ...  [north, korea, planning, kind, rocket, launch,...\n",
              "1  525008463819464704  ...  [meet, kevin, vickers, hero, shot, parliament,...\n",
              "2  505611045897924608  ...  [year, old, swatted, gamer, convicted, domesti...\n",
              "3  693466724822323200  ...  [audio, recordings, reveal, cpr, started, minu...\n",
              "4  510922415468449792  ...  [awful, mt, scclemons, uk, aid, worker, david,...\n",
              "\n",
              "[5 rows x 3 columns]"
            ]
          },
          "metadata": {
            "tags": []
          },
          "execution_count": 109
        }
      ]
    },
    {
      "cell_type": "markdown",
      "metadata": {
        "id": "o0MN0d1vet6W",
        "colab_type": "text"
      },
      "source": [
        "## Usando GloVe"
      ]
    },
    {
      "cell_type": "markdown",
      "metadata": {
        "id": "JzRca57nPHTv",
        "colab_type": "text"
      },
      "source": [
        "Antes de ejecutar, descargar Glove en la siguiente página http://nlp.stanford.edu/data/glove.6B.zip , descomprimir el archivo y colocar el path donde se encuentra el archivo \"glove.6B.300d.txt\" en la siguiente variable"
      ]
    },
    {
      "cell_type": "code",
      "metadata": {
        "id": "qyAuUY1tO7Xn",
        "colab_type": "code",
        "colab": {}
      },
      "source": [
        "path_Glove = \"/content/drive/My Drive/USM Carpeta Personal/Redes Neuronales/Talleres (tareas)/Taller 2/\""
      ],
      "execution_count": 110,
      "outputs": []
    },
    {
      "cell_type": "code",
      "metadata": {
        "id": "f5YgPLRjes7A",
        "colab_type": "code",
        "colab": {}
      },
      "source": [
        "#/content/drive/My Drive/USM Carpeta Personal/Redes Neuronales/Talleres (tareas)/Taller 2/glove.6B.300d.txt\n",
        "EMBEDDING_DIM = 300\n",
        "GLOVE_FILE = path_Glove + \"glove.6B.300d.txt\"\n",
        "embeddings_index = {}\n",
        "with open(GLOVE_FILE,encoding=\"utf8\") as file:\n",
        "    for line in file:\n",
        "        values = line.split()\n",
        "        embeddings_index[values[0]] = np.asarray(values[1:], dtype='float32')"
      ],
      "execution_count": 111,
      "outputs": []
    },
    {
      "cell_type": "markdown",
      "metadata": {
        "id": "GTMcd9-KrbRs",
        "colab_type": "text"
      },
      "source": [
        "Lo que hará word2vec es complementar la matriz de frencuencia antes creada para calzar las palabras nuevas que no estén en el vocabulario a la que se encuentre mas cercana según distancias entre los vectores del word2vec pre entrenado.\n",
        "\n",
        "Así por ejemplo, si el tweet 1 contiene la palabra \"house\" y esta no se encuentra en el vocabulario que se formo con las palabras del entrenamiento, entonces la asociará a la palabra más cercana del modelo pre entrenado, que podría ser \"home\"."
      ]
    },
    {
      "cell_type": "markdown",
      "metadata": {
        "id": "XuIO0hQXpSAB",
        "colab_type": "text"
      },
      "source": [
        "![texto alternativo](https://i.imgur.com/s0KaPGV.png)"
      ]
    },
    {
      "cell_type": "code",
      "metadata": {
        "id": "JkwlcolkgHaO",
        "colab_type": "code",
        "colab": {}
      },
      "source": [
        "#se crea el vocabulario de las palabras en texts_train\n",
        "def get_vocab(texts):\n",
        "    vocab = []\n",
        "    for text in texts:\n",
        "        for word in text:\n",
        "            if word in [\".\",\",\",\"'s\",\"'\",\"-\",\"_\"]:\n",
        "                continue\n",
        "            if word not in vocab:\n",
        "                vocab.append(word)\n",
        "    return vocab\n",
        "\n",
        "vocab_train_haressment = \"\"\n",
        "vocab_train  = get_vocab(x_train_total.words.values.tolist())"
      ],
      "execution_count": 112,
      "outputs": []
    },
    {
      "cell_type": "code",
      "metadata": {
        "id": "lPytYlrah1Yh",
        "colab_type": "code",
        "colab": {}
      },
      "source": [
        "#acotar embeddings_index por el vocabulario\n",
        "embeddings_index_in_vocab = {}\n",
        "for word in vocab_train:\n",
        "    if word in embeddings_index:\n",
        "        embeddings_index_in_vocab[word] = embeddings_index.get(word)"
      ],
      "execution_count": 113,
      "outputs": []
    },
    {
      "cell_type": "code",
      "metadata": {
        "id": "vA5aCak0iY__",
        "colab_type": "code",
        "colab": {}
      },
      "source": [
        "#sp.sparse.csr_matrix((3, 4), dtype=np.int8).toarray()\n",
        "import scipy as sp\n",
        "def transform(vocab,texts):\n",
        "    index_find_previously = {}\n",
        "    rows = []\n",
        "    cols = []\n",
        "    datas = []\n",
        "    new_matrix = sp.sparse.csr_matrix((len(texts), len(vocab)), dtype=np.float64)\n",
        "    for row in range(len(texts)):\n",
        "        data_temp = {}\n",
        "        for word in texts[row]:\n",
        "            if word in [\".\",\",\",\"'s\",\"'\",\"-\",\"_\"]:\n",
        "                continue\n",
        "            if word in vocab:\n",
        "                if vocab.index(word) in data_temp:\n",
        "                    data_temp[vocab.index(word)] +=1\n",
        "                else:\n",
        "                    data_temp[vocab.index(word)] = 1\n",
        "            elif word in embeddings_index:\n",
        "                if word not in index_find_previously:\n",
        "                    index_find = find_closest_embeddings(vocab,word)\n",
        "                    index_find_previously[word] = index_find\n",
        "                else:\n",
        "                    index_find = index_find_previously[word]\n",
        "                \n",
        "                if index_find == -1:\n",
        "                    continue\n",
        "                \n",
        "                if index_find in data_temp:\n",
        "                    data_temp[index_find] +=1\n",
        "                else:\n",
        "                    data_temp[index_find] = 1\n",
        "        for col,data in data_temp.items():\n",
        "            rows.append(row)\n",
        "            cols.append(col)\n",
        "            datas.append(data)\n",
        "    return sp.sparse.csr_matrix((datas, (rows, cols)), shape=(len(texts), len(vocab)))\n",
        "\n",
        "import heapq\n",
        "def find_closest_embeddings(vocab,word_search):\n",
        "    words_find = heapq.nsmallest(2,embeddings_index_in_vocab.keys(),key=lambda word: sp.spatial.distance.euclidean(embeddings_index_in_vocab.get(word),embeddings_index.get(word_search)))\n",
        "    for word in words_find:\n",
        "        if word in vocab:\n",
        "            #print(\"encontro\",word)\n",
        "            return vocab.index(word)\n",
        "    #\"no se encontro ninguna palabra parecida a word_search\n",
        "    return -1"
      ],
      "execution_count": 114,
      "outputs": []
    },
    {
      "cell_type": "markdown",
      "metadata": {
        "id": "5xcJGKv-b0G8",
        "colab_type": "text"
      },
      "source": [
        "Se forman dos matrices, una con los tweet de entramiento y la segunda con los tweet de test"
      ]
    },
    {
      "cell_type": "code",
      "metadata": {
        "id": "Vn06Rw7Xiehf",
        "colab_type": "code",
        "colab": {
          "base_uri": "https://localhost:8080/",
          "height": 33
        },
        "outputId": "ad01e846-c0e0-47aa-b644-1397de78cf8d"
      },
      "source": [
        "train_total_vecs_w2v = transform(vocab_train,x_train_total.words.values.tolist())\n",
        "print(\"terminó features_train\")"
      ],
      "execution_count": 115,
      "outputs": [
        {
          "output_type": "stream",
          "text": [
            "termino features_train\n"
          ],
          "name": "stdout"
        }
      ]
    },
    {
      "cell_type": "code",
      "metadata": {
        "id": "XxfZb61vjrDX",
        "colab_type": "code",
        "colab": {
          "base_uri": "https://localhost:8080/",
          "height": 33
        },
        "outputId": "3b4b34fd-f383-401a-c3ec-61317a61b1dc"
      },
      "source": [
        "test_vecs_w2v = transform(vocab_train,x_test.words.values.tolist())\n",
        "print(\"terminó features_test\")"
      ],
      "execution_count": 116,
      "outputs": [
        {
          "output_type": "stream",
          "text": [
            "termino features_test\n"
          ],
          "name": "stdout"
        }
      ]
    },
    {
      "cell_type": "markdown",
      "metadata": {
        "id": "V53MFCCdyyDd",
        "colab_type": "text"
      },
      "source": [
        "## Creación del modelo y entrenamiento"
      ]
    },
    {
      "cell_type": "code",
      "metadata": {
        "id": "IDhXz42JabVh",
        "colab_type": "code",
        "colab": {}
      },
      "source": [
        "#Se define f1\n",
        "from keras import backend as K\n",
        "\n",
        "def recall_m(y_true, y_pred):\n",
        "    true_positives = K.sum(K.round(K.clip(y_true * y_pred, 0, 1)))\n",
        "    possible_positives = K.sum(K.round(K.clip(y_true, 0, 1)))\n",
        "    recall = true_positives / (possible_positives + K.epsilon())\n",
        "    return recall\n",
        "\n",
        "def precision_m(y_true, y_pred):\n",
        "    true_positives = K.sum(K.round(K.clip(y_true * y_pred, 0, 1)))\n",
        "    predicted_positives = K.sum(K.round(K.clip(y_pred, 0, 1)))\n",
        "    precision = true_positives / (predicted_positives + K.epsilon())\n",
        "    return precision\n",
        "\n",
        "def f1_m(y_true, y_pred):\n",
        "    precision = precision_m(y_true, y_pred)\n",
        "    recall = recall_m(y_true, y_pred)\n",
        "    return 2*((precision*recall)/(precision+recall+K.epsilon()))"
      ],
      "execution_count": 118,
      "outputs": []
    },
    {
      "cell_type": "code",
      "metadata": {
        "id": "z89w7oLryxIM",
        "colab_type": "code",
        "colab": {
          "base_uri": "https://localhost:8080/",
          "height": 366
        },
        "outputId": "5b58e712-3624-4b9c-c635-307d8b5c04ae"
      },
      "source": [
        "model = Sequential()\n",
        "model.add(Dense(1024, activation='relu', input_dim=5325))\n",
        "model.add(Dense(512,activation='relu'))\n",
        "model.add(Dropout(0.5))\n",
        "model.add(Dense(32,activation='relu'))\n",
        "model.add(Dense(4, activation='softmax'))\n",
        "model.compile(optimizer='adam',\n",
        "              loss='categorical_crossentropy',\n",
        "              metrics=['accuracy',f1_m])\n",
        "\n",
        "model.fit(train_total_vecs_w2v, y_train_total, epochs=10, batch_size=32, verbose=2)\n"
      ],
      "execution_count": 119,
      "outputs": [
        {
          "output_type": "stream",
          "text": [
            "Epoch 1/10\n",
            " - 2s - loss: 1.0891 - accuracy: 0.5400 - f1_m: 0.3026\n",
            "Epoch 2/10\n",
            " - 0s - loss: 0.1776 - accuracy: 0.9465 - f1_m: 0.9436\n",
            "Epoch 3/10\n",
            " - 0s - loss: 0.0158 - accuracy: 0.9958 - f1_m: 0.9961\n",
            "Epoch 4/10\n",
            " - 0s - loss: 0.0034 - accuracy: 0.9995 - f1_m: 0.9995\n",
            "Epoch 5/10\n",
            " - 0s - loss: 0.0011 - accuracy: 1.0000 - f1_m: 1.0000\n",
            "Epoch 6/10\n",
            " - 0s - loss: 8.4422e-04 - accuracy: 1.0000 - f1_m: 1.0000\n",
            "Epoch 7/10\n",
            " - 0s - loss: 6.0470e-04 - accuracy: 1.0000 - f1_m: 1.0000\n",
            "Epoch 8/10\n",
            " - 0s - loss: 3.4050e-04 - accuracy: 1.0000 - f1_m: 1.0000\n",
            "Epoch 9/10\n",
            " - 0s - loss: 2.8078e-04 - accuracy: 1.0000 - f1_m: 1.0000\n",
            "Epoch 10/10\n",
            " - 0s - loss: 2.4758e-04 - accuracy: 1.0000 - f1_m: 1.0000\n"
          ],
          "name": "stdout"
        },
        {
          "output_type": "execute_result",
          "data": {
            "text/plain": [
              "<keras.callbacks.callbacks.History at 0x7f1721410710>"
            ]
          },
          "metadata": {
            "tags": []
          },
          "execution_count": 119
        }
      ]
    },
    {
      "cell_type": "code",
      "metadata": {
        "id": "UqEH1wVv2pT4",
        "colab_type": "code",
        "colab": {}
      },
      "source": [
        "y_pred = model.predict_classes(test_vecs_w2v)"
      ],
      "execution_count": 120,
      "outputs": []
    },
    {
      "cell_type": "code",
      "metadata": {
        "id": "81W4P2GXmfGd",
        "colab_type": "code",
        "colab": {
          "base_uri": "https://localhost:8080/",
          "height": 183
        },
        "outputId": "5f7c5164-5080-4e60-b907-9b3e330cae8d"
      },
      "source": [
        "y_pred"
      ],
      "execution_count": 121,
      "outputs": [
        {
          "output_type": "execute_result",
          "data": {
            "text/plain": [
              "array([0, 1, 2, 3, 2, 2, 2, 2, 3, 1, 1, 0, 1, 0, 3, 3, 0, 3, 1, 2, 2, 1,\n",
              "       3, 2, 0, 0, 2, 3, 3, 0, 0, 0, 2, 1, 2, 0, 3, 3, 3, 3, 0, 1, 0, 1,\n",
              "       3, 2, 3, 2, 3, 3, 2, 2, 0, 2, 2, 3, 3, 2, 0, 3, 1, 2, 2, 0, 0, 3,\n",
              "       2, 3, 2, 3, 2, 0, 3, 3, 3, 0, 2, 3, 3, 3, 3, 3, 3, 2, 2, 0, 0, 2,\n",
              "       0, 0, 3, 1, 1, 2, 1, 0, 2, 2, 2, 0, 2, 2, 1, 3, 0, 1, 0, 3, 3, 0,\n",
              "       2, 0, 0, 2, 3, 3, 2, 2, 3, 0, 0, 0, 0, 1, 2, 3, 1, 1, 2, 1, 2, 3,\n",
              "       3, 0, 3, 3, 2, 0, 2, 0, 3, 2, 3, 0, 0, 1, 3, 0, 0, 2, 0, 3, 2, 2,\n",
              "       3, 3, 0, 3, 1, 1, 3, 2, 2, 2, 2, 3, 1, 2, 0, 1, 3, 3, 3, 3, 0, 2,\n",
              "       0, 2, 1, 0, 2, 2, 2, 0, 3, 3, 2, 1, 0, 2, 2, 3, 3, 3, 2, 2, 2, 1,\n",
              "       1, 0, 2, 2, 2, 0, 3, 3, 3, 2, 3, 0, 3, 0, 0])"
            ]
          },
          "metadata": {
            "tags": []
          },
          "execution_count": 121
        }
      ]
    },
    {
      "cell_type": "markdown",
      "metadata": {
        "id": "J9ja-moBanh1",
        "colab_type": "text"
      },
      "source": [
        "### Transformando los datos predecidos a formato submit"
      ]
    },
    {
      "cell_type": "code",
      "metadata": {
        "id": "I7snJFcr598C",
        "colab_type": "code",
        "colab": {}
      },
      "source": [
        "label = ['non-rumor', 'unverified', 'false', 'true']\n",
        "y_pred_label = []\n",
        "for i in y_pred:\n",
        "  y_pred_label.append(label[i])"
      ],
      "execution_count": 122,
      "outputs": []
    },
    {
      "cell_type": "code",
      "metadata": {
        "id": "VgeSAFMj6SfS",
        "colab_type": "code",
        "colab": {}
      },
      "source": [
        "x_test[\"label\"] = y_pred_label"
      ],
      "execution_count": 123,
      "outputs": []
    },
    {
      "cell_type": "code",
      "metadata": {
        "id": "1EuUzSsy6nKF",
        "colab_type": "code",
        "colab": {
          "base_uri": "https://localhost:8080/",
          "height": 406
        },
        "outputId": "63faf2fb-6ab7-4d1f-e493-c0407c238899"
      },
      "source": [
        "x_test"
      ],
      "execution_count": 124,
      "outputs": [
        {
          "output_type": "execute_result",
          "data": {
            "text/html": [
              "<div>\n",
              "<style scoped>\n",
              "    .dataframe tbody tr th:only-of-type {\n",
              "        vertical-align: middle;\n",
              "    }\n",
              "\n",
              "    .dataframe tbody tr th {\n",
              "        vertical-align: top;\n",
              "    }\n",
              "\n",
              "    .dataframe thead th {\n",
              "        text-align: right;\n",
              "    }\n",
              "</style>\n",
              "<table border=\"1\" class=\"dataframe\">\n",
              "  <thead>\n",
              "    <tr style=\"text-align: right;\">\n",
              "      <th></th>\n",
              "      <th>id</th>\n",
              "      <th>tweet</th>\n",
              "      <th>words</th>\n",
              "      <th>label</th>\n",
              "    </tr>\n",
              "  </thead>\n",
              "  <tbody>\n",
              "    <tr>\n",
              "      <th>0</th>\n",
              "      <td>689719109785907200</td>\n",
              "      <td>death toll from #bachakhanuniattack rises to a...</td>\n",
              "      <td>[death, toll, bachakhanuniattack, rises, least...</td>\n",
              "      <td>non-rumor</td>\n",
              "    </tr>\n",
              "    <tr>\n",
              "      <th>1</th>\n",
              "      <td>531300385248800768</td>\n",
              "      <td>the head of isis, abu bakr al-baghdadi, is sai...</td>\n",
              "      <td>[head, isis, abu, bakr, albaghdadi, said, crit...</td>\n",
              "      <td>unverified</td>\n",
              "    </tr>\n",
              "    <tr>\n",
              "      <th>2</th>\n",
              "      <td>652992524504600576</td>\n",
              "      <td>steve jobs was adopted. his biological father ...</td>\n",
              "      <td>[steve, jobs, adopted, biological, father, abd...</td>\n",
              "      <td>false</td>\n",
              "    </tr>\n",
              "    <tr>\n",
              "      <th>3</th>\n",
              "      <td>509473920060104704</td>\n",
              "      <td>microsoft to buy mojang - report URL $2 billio...</td>\n",
              "      <td>[microsoft, buy, mojang, report, url, billion,...</td>\n",
              "      <td>true</td>\n",
              "    </tr>\n",
              "    <tr>\n",
              "      <th>4</th>\n",
              "      <td>651321040119963648</td>\n",
              "      <td>el chapo puts $100 million bounty on donald tr...</td>\n",
              "      <td>[el, chapo, puts, million, bounty, donald, tru...</td>\n",
              "      <td>false</td>\n",
              "    </tr>\n",
              "    <tr>\n",
              "      <th>...</th>\n",
              "      <td>...</td>\n",
              "      <td>...</td>\n",
              "      <td>...</td>\n",
              "      <td>...</td>\n",
              "    </tr>\n",
              "    <tr>\n",
              "      <th>208</th>\n",
              "      <td>642432477185867776</td>\n",
              "      <td>the stickers on fruit are edible.</td>\n",
              "      <td>[stickers, fruit, edible]</td>\n",
              "      <td>true</td>\n",
              "    </tr>\n",
              "    <tr>\n",
              "      <th>209</th>\n",
              "      <td>693236688538243074</td>\n",
              "      <td>is the truth out there? in nod to @thexfiles, ...</td>\n",
              "      <td>[truth, nod, thexfiles, cia, releases, hundred...</td>\n",
              "      <td>non-rumor</td>\n",
              "    </tr>\n",
              "    <tr>\n",
              "      <th>210</th>\n",
              "      <td>504131150429061121</td>\n",
              "      <td>breaking: fbi uncovers new audio from neighbor...</td>\n",
              "      <td>[breaking, fbi, uncovers, new, audio, neighbor...</td>\n",
              "      <td>true</td>\n",
              "    </tr>\n",
              "    <tr>\n",
              "      <th>211</th>\n",
              "      <td>692004901455556608</td>\n",
              "      <td>.@potus just announced new reforms to address ...</td>\n",
              "      <td>[potus, announced, new, reforms, address, over...</td>\n",
              "      <td>non-rumor</td>\n",
              "    </tr>\n",
              "    <tr>\n",
              "      <th>212</th>\n",
              "      <td>692157602554343424</td>\n",
              "      <td>waiting for the new episode of #teenwolf like....</td>\n",
              "      <td>[waiting, new, episode, teenwolf, like, url]</td>\n",
              "      <td>non-rumor</td>\n",
              "    </tr>\n",
              "  </tbody>\n",
              "</table>\n",
              "<p>213 rows × 4 columns</p>\n",
              "</div>"
            ],
            "text/plain": [
              "                     id  ...       label\n",
              "0    689719109785907200  ...   non-rumor\n",
              "1    531300385248800768  ...  unverified\n",
              "2    652992524504600576  ...       false\n",
              "3    509473920060104704  ...        true\n",
              "4    651321040119963648  ...       false\n",
              "..                  ...  ...         ...\n",
              "208  642432477185867776  ...        true\n",
              "209  693236688538243074  ...   non-rumor\n",
              "210  504131150429061121  ...        true\n",
              "211  692004901455556608  ...   non-rumor\n",
              "212  692157602554343424  ...   non-rumor\n",
              "\n",
              "[213 rows x 4 columns]"
            ]
          },
          "metadata": {
            "tags": []
          },
          "execution_count": 124
        }
      ]
    },
    {
      "cell_type": "code",
      "metadata": {
        "id": "t_g5Arz_7G0I",
        "colab_type": "code",
        "colab": {}
      },
      "source": [
        "x_test.to_csv('sub_1.csv', columns=[\"label\",\"id\"] , index=False)"
      ],
      "execution_count": 125,
      "outputs": []
    },
    {
      "cell_type": "code",
      "metadata": {
        "id": "_ELQOK-na5zY",
        "colab_type": "code",
        "colab": {}
      },
      "source": [
        ""
      ],
      "execution_count": null,
      "outputs": []
    }
  ]
}