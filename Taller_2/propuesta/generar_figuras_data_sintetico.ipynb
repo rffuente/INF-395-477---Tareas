{
 "cells": [
  {
   "cell_type": "code",
   "execution_count": 43,
   "metadata": {},
   "outputs": [],
   "source": [
    "import numpy as np\n",
    "import cairo\n",
    "import math\n",
    "import matplotlib.pyplot as plt\n",
    "data = np.zeros((150, 150, 4), dtype=np.uint8)\n",
    "surface = cairo.ImageSurface.create_for_data(\n",
    "    data, cairo.FORMAT_ARGB32, 150, 150)\n",
    "cr = cairo.Context(surface)\n",
    "\n",
    "# fill with solid white\n",
    "cr.set_source_rgb(1.0, 1.0, 1.0)\n",
    "cr.paint()\n",
    "\n",
    "np.random.seed(2)\n",
    "\n",
    "def plot_figures(size, figure_opt, count, train = True):\n",
    "    #1) square --- 2) rectangle --- 3) circle --- 4) triangle --- 5) polygons\n",
    "    ## (x,y)\n",
    "    x = np.random.randint(50, size=size)\n",
    "    y = np.random.randint(50, size=size)\n",
    "    if figure_opt == 1:\n",
    "        l = np.random.randint(100, size=size)\n",
    "    elif figure_opt == 2:\n",
    "        #l1: widht, l2: height\n",
    "        l1 = np.random.randint(100, size=size)\n",
    "        l2 = np.random.randint(100, size=size)\n",
    "    elif figure_opt == 3:\n",
    "        x = np.random.randint(30,100, size=size)\n",
    "        y = np.random.randint(30,100, size=size)\n",
    "        radius = np.random.randint(40, size=size)\n",
    "    elif figure_opt == 4:\n",
    "        x1 = np.random.randint(30,100, size=size)\n",
    "        y1 = np.random.randint(30,100, size=size)\n",
    "        x2 = np.random.randint(30,100, size=size)\n",
    "        y2 = np.random.randint(30,100, size=size)\n",
    "    elif figure_opt == 5:\n",
    "        x = np.random.randint(25,100, size=size)\n",
    "        y = np.random.randint(25,100, size=size)\n",
    "        x1 = np.random.randint(1,50, size=size)/100\n",
    "        y1 = np.random.randint(1,50, size=size)/100\n",
    "        x2 = np.random.randint(1,40, size=size)/100\n",
    "        y2 = np.random.randint(1,40, size=size)/100\n",
    "    R = np.random.randint(255, size=size)\n",
    "    G = np.random.randint(255, size=size)\n",
    "    B = np.random.randint(255, size=size)\n",
    "    for i in range(size):\n",
    "        cr.set_source_rgb(R[i]/255, G[i]/255, B[i]/255)\n",
    "        if figure_opt == 1:\n",
    "            cr.rectangle(x[i], y[i], l[i], l[i])\n",
    "            cr.fill()\n",
    "            #surface.write_to_png(\"train/square\" + str(i) + \".png\")\n",
    "        elif figure_opt == 2:\n",
    "            cr.rectangle(x[i], y[i], l1[i], l2[i])\n",
    "            cr.fill()\n",
    "            #surface.write_to_png(\"train/rectangle\" + str(i) + \".png\")\n",
    "        elif figure_opt == 3:\n",
    "            cr.arc(x[i], y[i], radius[i], 0, 2*math.pi)\n",
    "            cr.fill()\n",
    "            #surface.write_to_png(\"train/circle\" + str(i) + \".png\")\n",
    "        elif figure_opt == 4:\n",
    "            cr.move_to(x[i], y[i])\n",
    "            cr.line_to(x1[i], y1[i])\n",
    "            cr.line_to(x2[i], y2[i])\n",
    "            cr.close_path()\n",
    "            cr.fill()\n",
    "            #surface.write_to_png(\"train/triangle\" + str(i) + \".png\")\n",
    "        elif figure_opt == 5:\n",
    "            cr.move_to(x[i], y[i])\n",
    "            cr.line_to(x[i] - x[i]*x1[i], y[i] - y[i]*y1[i])\n",
    "            cr.line_to(x[i], (y[i] - y[i]*y1[i])*y2[i])\n",
    "            cr.line_to(x[i] + x[i]*x2[i], y[i] - y[i]*y1[i])\n",
    "            cr.fill()\n",
    "            #surface.write_to_png(\"train/polygon\" + str(i) + \".png\")\n",
    "        if train:\n",
    "            surface.write_to_png(\"train/train\" + str(count) + \".png\")\n",
    "        else:\n",
    "            surface.write_to_png(\"test/test\" + str(count) + \".png\")\n",
    "        cr.set_source_rgb(1.0, 1.0, 1.0)\n",
    "        cr.paint()\n",
    "    plt.imshow(data)\n",
    "# write output\n",
    "#print (data[38:48, 38:48, 0])\n",
    "size = 10"
   ]
  },
  {
   "cell_type": "code",
   "execution_count": 44,
   "metadata": {},
   "outputs": [],
   "source": [
    "#plot_figures(size, 5)"
   ]
  },
  {
   "cell_type": "code",
   "execution_count": 47,
   "metadata": {},
   "outputs": [
    {
     "data": {
      "image/png": "[encoded data removed]",
      "text/plain": [
       "<Figure size 432x288 with 1 Axes>"
      ]
     },
     "metadata": {
      "needs_background": "light"
     },
     "output_type": "display_data"
    }
   ],
   "source": [
    "trains_number = np.random.randint(1,6, size=3000)\n",
    "tests_number = np.random.randint(1,6, size=100)\n",
    "##TRAIN\n",
    "count = 0\n",
    "for i in trains_number:\n",
    "    plot_figures(1, i, count)\n",
    "    count += 1\n",
    "##TEST\n",
    "count2 = 0\n",
    "for i in tests_number:\n",
    "    plot_figures(1, i, count2, train=False)\n",
    "    count2 += 1"
   ]
  },
  {
   "cell_type": "code",
   "execution_count": 23,
   "metadata": {},
   "outputs": [
    {
     "data": {
      "text/plain": [
       "<matplotlib.image.AxesImage at 0x1177240d0>"
      ]
     },
     "execution_count": 23,
     "metadata": {},
     "output_type": "execute_result"
    },
    {
     "data": {
      "image/png": "[encoded data removed]",
      "text/plain": [
       "<Figure size 432x288 with 1 Axes>"
      ]
     },
     "metadata": {
      "needs_background": "light"
     },
     "output_type": "display_data"
    }
   ],
   "source": [
    "data = np.zeros((100, 100, 4), dtype=np.uint8)\n",
    "surface = cairo.ImageSurface.create_for_data(\n",
    "    data, cairo.FORMAT_ARGB32, 100, 100)\n",
    "cr = cairo.Context(surface)\n",
    "\n",
    "# fill with solid white\n",
    "cr.set_source_rgb(1.0, 1.0, 1.0)\n",
    "cr.paint()\n",
    "    \n",
    "np.random.seed(0)\n",
    "lado = 10\n",
    "cr.set_source_rgb(1.0, 0.0, 0.0)\n",
    "x = np.random.randint(30,70, size=size)\n",
    "y = np.random.randint(30,70, size=size)\n",
    "#x1 = np.random.random(10)\n",
    "#y1 = np.random.random(10)\n",
    "x1 = np.random.randint(1,40, size=size)/100\n",
    "y1 = np.random.randint(1,40, size=size)/100\n",
    "x2 = np.random.randint(1,30, size=size)/100\n",
    "y2 = np.random.randint(1,30, size=size)/100\n",
    "#x2 = np.random.random(10)\n",
    "#y2 = np.random.random(10)\n",
    "\n",
    "R = np.random.randint(255, size=size)\n",
    "G = np.random.randint(255, size=size)\n",
    "B = np.random.randint(255, size=size)\n",
    "for i in range(size):\n",
    "    cr.set_source_rgb(R[i]/255, G[i]/255, B[i]/255)\n",
    "    cr.move_to(x[i], y[i])\n",
    "    cr.line_to(x[i] - x[i]*x1[i], y[i] - y[i]*y1[i])\n",
    "    cr.line_to(x[i], (y[i] - y[i]*y1[i])*y2[i])\n",
    "    cr.line_to(x[i] + x[i]*x2[i], y[i] - y[i]*y1[i])\n",
    "    #cr.close_path()\n",
    "    cr.fill()\n",
    "    surface.write_to_png(\"train/polygon\" + str(i) + \".png\")\n",
    "    cr.set_source_rgb(1.0, 1.0, 1.0)\n",
    "    cr.paint()\n",
    "\n",
    "# write output\n",
    "#print data[38:48, 38:48, 0]\n",
    "plt.imshow(data)\n",
    "#surface.write_to_png(\"circle.png\")"
   ]
  },
  {
   "cell_type": "code",
   "execution_count": 19,
   "metadata": {},
   "outputs": [
    {
     "data": {
      "text/plain": [
       "array([0.09, 0.27, 0.22, 0.29, 0.05, 0.12, 0.15, 0.19, 0.1 , 0.08])"
      ]
     },
     "execution_count": 19,
     "metadata": {},
     "output_type": "execute_result"
    }
   ],
   "source": [
    "np.random.randint(1,30, size=size)/100"
   ]
  },
  {
   "cell_type": "markdown",
   "metadata": {},
   "source": [
    "### "
   ]
  }
 ],
 "metadata": {
  "kernelspec": {
   "display_name": "Python 3",
   "language": "python",
   "name": "python3"
  },
  "language_info": {
   "codemirror_mode": {
    "name": "ipython",
    "version": 3
   },
   "file_extension": ".py",
   "mimetype": "text/x-python",
   "name": "python",
   "nbconvert_exporter": "python",
   "pygments_lexer": "ipython3",
   "version": "3.7.6"
  }
 },
 "nbformat": 4,
 "nbformat_minor": 4
}
